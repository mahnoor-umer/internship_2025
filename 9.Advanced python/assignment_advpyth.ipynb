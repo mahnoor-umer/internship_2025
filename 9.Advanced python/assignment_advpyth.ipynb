{
 "cells": [
  {
   "cell_type": "markdown",
   "metadata": {},
   "source": [
    "### Iterators,Generators and Decorators Assignment:\n"
   ]
  },
  {
   "cell_type": "markdown",
   "metadata": {},
   "source": [
    "Assignment 1: Custom Iterator\n",
    "\n",
    "Create a custom iterator class named Countdown that takes a number and counts down to zero. Implement the __iter__ and __next__ methods. Test the iterator by using it in a for loop."
   ]
  },
  {
   "cell_type": "code",
   "execution_count": 3,
   "metadata": {},
   "outputs": [
    {
     "name": "stdout",
     "output_type": "stream",
     "text": [
      "5 4 3 2 1 0 "
     ]
    }
   ],
   "source": [
    "## Create a class\n",
    "class Countdown:\n",
    "    def __init__(self, start):\n",
    "        self.current= start\n",
    "\n",
    "    def __iter__(self):\n",
    "        return self\n",
    "    \n",
    "    def __next__(self):\n",
    "        if self.current < 0:\n",
    "            raise StopIteration\n",
    "        else:\n",
    "            value = self.current\n",
    "            self.current -= 1\n",
    "            return value\n",
    "        \n",
    "## Test the iterator\n",
    "countdown = Countdown(5)\n",
    "for num in countdown:\n",
    "    print(num, end=' ')\n"
   ]
  },
  {
   "cell_type": "markdown",
   "metadata": {},
   "source": [
    "Assignment 2: Custom Iterable Class\n",
    "\n",
    "Create a class named MyRange that mimics the behavior of the built-in range function. Implement the __iter__ and __next__ methods. Test the class by using it in a for loop."
   ]
  },
  {
   "cell_type": "code",
   "execution_count": 2,
   "metadata": {},
   "outputs": [
    {
     "name": "stdout",
     "output_type": "stream",
     "text": [
      "1\n",
      "2\n",
      "3\n",
      "4\n"
     ]
    }
   ],
   "source": [
    "## Create a class\n",
    "class MyRange:\n",
    "    def __init__(self, start, stop, step=1):\n",
    "        self.start = start\n",
    "        self.stop = stop\n",
    "        self.step = step\n",
    "        self.current= start\n",
    "\n",
    "    def __iter__(self):\n",
    "        return self\n",
    "        \n",
    "    def __next__(self):\n",
    "        if self.step > 0: # increment\n",
    "            if self.current >= self.stop:\n",
    "                raise StopIteration\n",
    "            else:\n",
    "                vlaue = self.current\n",
    "                self.current += self.step\n",
    "                return vlaue\n",
    "            \n",
    "## Test the class\n",
    "for i in MyRange(1, 5):\n",
    "    print (i)\n",
    "    \n",
    "\n",
    "\n",
    "\n",
    "\n",
    "        "
   ]
  },
  {
   "cell_type": "markdown",
   "metadata": {},
   "source": [
    "Assignment 3: Generator Function\n",
    "\n",
    "Write a generator function named fibonacci that yields the Fibonacci sequence. Test the generator by iterating over it and printing the first 10 Fibonacci numbers."
   ]
  },
  {
   "cell_type": "code",
   "execution_count": 4,
   "metadata": {},
   "outputs": [
    {
     "name": "stdout",
     "output_type": "stream",
     "text": [
      "First 10 Fibonacci numbers:\n",
      "0 1 1 2 3 5 8 13 21 34 "
     ]
    }
   ],
   "source": [
    "def fibonacci():\n",
    "    a, b = 0, 1\n",
    "    while True:\n",
    "        yield a\n",
    "        a, b = b, a + b\n",
    "\n",
    "## Print the first 10 fibonacci numbers\n",
    "print( f\"First 10 Fibonacci numbers:\")\n",
    "fib_gen= fibonacci()\n",
    "for _ in range(10):\n",
    "    print(fib_gen.__next__(), end=\" \")"
   ]
  },
  {
   "cell_type": "markdown",
   "metadata": {},
   "source": [
    "Assignment 4: Generator Expression\n",
    "\n",
    "Create a generator expression that generates the squares of numbers from 1 to 10. Iterate over the generator and print each value."
   ]
  },
  {
   "cell_type": "code",
   "execution_count": 7,
   "metadata": {},
   "outputs": [
    {
     "name": "stdout",
     "output_type": "stream",
     "text": [
      "1 4 9 16 25 36 49 64 81 100 "
     ]
    }
   ],
   "source": [
    "## Create a generator expression \n",
    "squares= (x**2 for x in range(1,11))\n",
    "\n",
    "# Iterate over the generator expression\n",
    "for i in squares:\n",
    "    print(i, end= ' ')"
   ]
  },
  {
   "cell_type": "markdown",
   "metadata": {},
   "source": [
    "Assignment 5: Chaining Generators\n",
    "\n",
    "Write two generator functions: even_numbers that yields even numbers up to a limit, and squares that yields the square of each number from another generator. Chain these generators to produce the squares of even numbers up to 20."
   ]
  },
  {
   "cell_type": "code",
   "execution_count": 9,
   "metadata": {},
   "outputs": [
    {
     "name": "stdout",
     "output_type": "stream",
     "text": [
      "Square of even numbers up to 20:\n",
      "0 4 16 36 64 100 144 196 256 324 400 "
     ]
    }
   ],
   "source": [
    "## Create generator of even numbers up to a limit\n",
    "def even_numbers(limit):\n",
    "    for i in range(0, limit + 1, 2):\n",
    "        yield i\n",
    "\n",
    "## Create generator of squares \n",
    "def squares(number_gen):\n",
    "    for num in number_gen:\n",
    "        yield num ** 2\n",
    "\n",
    "## Chain these generators\n",
    "print(\"Square of even numbers up to 20:\")\n",
    "for num in squares(even_numbers(20)):\n",
    "    print(num, end=\" \")\n",
    "\n",
    "        \n"
   ]
  },
  {
   "cell_type": "markdown",
   "metadata": {},
   "source": [
    "Assignment 6: Simple Decorator\n",
    "\n",
    "Write a decorator named time_it that measures the execution time of a function. Apply this decorator to a function that calculates the factorial of a number."
   ]
  },
  {
   "cell_type": "code",
   "execution_count": 17,
   "metadata": {},
   "outputs": [
    {
     "name": "stdout",
     "output_type": "stream",
     "text": [
      "Function 'factorial' executed in  0.0000s\n",
      "Factorial of 15: 1307674368000\n"
     ]
    }
   ],
   "source": [
    "import time\n",
    "## Create a decorator that measures time execution of a function\n",
    "def time_it(func):\n",
    "    def wrapper(*args, **kwargs):\n",
    "        start_time = time.time()\n",
    "        result = func(*args, **kwargs)\n",
    "        end_time = time.time()\n",
    "        execution_time = end_time - start_time\n",
    "        print(f\"Function {func.__name__!r} executed in {(execution_time): .4f}s\")\n",
    "        return result\n",
    "    return wrapper\n",
    "    \n",
    "## Apply the decorator to calculate factorial\n",
    "@time_it\n",
    "def factorial(n):\n",
    "    result= 1\n",
    "    for i in range(2, n + 1):\n",
    "        result *= i\n",
    "    return result\n",
    "    \n",
    "## Test the function\n",
    "num=15\n",
    "print( f\"Factorial of {num}: {factorial(num)}\")\n",
    "\n",
    "\n",
    "\n",
    "    \n",
    "\n",
    "\n"
   ]
  },
  {
   "cell_type": "markdown",
   "metadata": {},
   "source": [
    "Assignment 7: Decorator with Arguments\n",
    "\n",
    "Write a decorator named repeat that takes an argument n and repeats the execution of the decorated function n times. Apply this decorator to a function that prints a message."
   ]
  },
  {
   "cell_type": "code",
   "execution_count": 15,
   "metadata": {},
   "outputs": [
    {
     "name": "stdout",
     "output_type": "stream",
     "text": [
      "Hello, Maham!\n",
      "Hello, Maham!\n"
     ]
    }
   ],
   "source": [
    "## Create decorator named repeat\n",
    "def repeat(n):\n",
    "    def decorator(func):\n",
    "        def wrapper(*args, **kwargs):\n",
    "            for _ in range(n):\n",
    "                func(*args, **kwargs)\n",
    "                return func(*args, **kwargs)\n",
    "        return wrapper\n",
    "    return decorator\n",
    "    \n",
    "## Apply this decorator to function\n",
    "@repeat(2)\n",
    "def greet(name):\n",
    "    print(f\"Hello, {name}!\")\n",
    "\n",
    "## Test the decorated function\n",
    "greet(\"Maham\")\n",
    "\n",
    "\n",
    "\n"
   ]
  },
  {
   "cell_type": "markdown",
   "metadata": {},
   "source": [
    "Assignment 8: Nested Decorators\n",
    "\n",
    "Write two decorators: uppercase that converts the result of a function to uppercase, and exclaim that adds an exclamation mark to the result of a function. Apply both decorators to a function that returns a greeting message."
   ]
  },
  {
   "cell_type": "code",
   "execution_count": 16,
   "metadata": {},
   "outputs": [
    {
     "name": "stdout",
     "output_type": "stream",
     "text": [
      "HELLO, WORLD!!\n"
     ]
    }
   ],
   "source": [
    "## Create decorator named uppercase\n",
    "def uppercase(func):\n",
    "    def wrapper():\n",
    "        result = func()\n",
    "        return result.upper()\n",
    "    return wrapper\n",
    "\n",
    "## Create decorator named exclaim\n",
    "def exclaim(func):\n",
    "    def wrapper():\n",
    "        result = func()\n",
    "        return result + '!'\n",
    "    return wrapper\n",
    "\n",
    "## Apply both decorators to greet function\n",
    "@uppercase\n",
    "@exclaim\n",
    "def greet():\n",
    "    return \"Hello, world!\"\n",
    "\n",
    "## Call greet function\n",
    "print(greet())  # Output: HELLO, WORLD!\n"
   ]
  },
  {
   "cell_type": "markdown",
   "metadata": {},
   "source": [
    "Assignment 9: Class Decorator\n",
    "\n",
    "Create a class decorator named singleton that ensures a class has only one instance. Apply this decorator to a class named DatabaseConnection and test it."
   ]
  },
  {
   "cell_type": "code",
   "execution_count": 18,
   "metadata": {},
   "outputs": [
    {
     "name": "stdout",
     "output_type": "stream",
     "text": [
      "Connecting to database...\n",
      "True\n"
     ]
    }
   ],
   "source": [
    "## Create a class decorator named singleton\n",
    "def singleton(cls):\n",
    "    instances = {}\n",
    "    def get_instance(*args, **kwargs):\n",
    "        if cls not in instances:\n",
    "            instances[cls] = cls(*args, **kwargs)\n",
    "        return instances[cls]\n",
    "    return get_instance\n",
    "    \n",
    "## Apply this decorator to a new class\n",
    "@singleton\n",
    "class DatabaseConnection:\n",
    "    def __init__(self):\n",
    "          print(\"Connecting to database...\")\n",
    "    \n",
    "## Test it\n",
    "db1 = DatabaseConnection()\n",
    "db2 = DatabaseConnection()\n",
    "\n",
    "print(db1 is db2)  # Output: True\n",
    "\n",
    "\n",
    "\n",
    "\n",
    "            \n",
    "        \n",
    "        \n"
   ]
  },
  {
   "cell_type": "markdown",
   "metadata": {},
   "source": [
    "Assignment 10: Iterator Protocol with Decorators\n",
    "\n",
    "Create a custom iterator class named ReverseString that iterates over a string in reverse. Write a decorator named uppercase that converts the string to uppercase before reversing it. Apply the decorator to the ReverseString class."
   ]
  },
  {
   "cell_type": "code",
   "execution_count": 5,
   "metadata": {},
   "outputs": [
    {
     "name": "stdout",
     "output_type": "stream",
     "text": [
      "D L R O W "
     ]
    }
   ],
   "source": [
    "# Decorator that modifies the class to uppercase the input string\n",
    "def uppercase(cls):\n",
    "    class UppercaseWrapper(cls):\n",
    "        def __init__(self, text):\n",
    "            # Convert the input to uppercase before passing to parent\n",
    "            super().__init__(text.upper())\n",
    "    return UppercaseWrapper\n",
    "\n",
    "# Custom iterator class to iterate over string in reverse\n",
    "@uppercase\n",
    "class ReverseString:\n",
    "    def __init__(self, text):\n",
    "        self.text = text\n",
    "        self.index = len(text) - 1\n",
    "\n",
    "    def __iter__(self):\n",
    "        return self\n",
    "\n",
    "    def __next__(self):\n",
    "        if self.index < 0:\n",
    "            raise StopIteration\n",
    "        char = self.text[self.index]\n",
    "        self.index -= 1\n",
    "        return char\n",
    "\n",
    "# Test the class\n",
    "reversed_iter = ReverseString(\"World\")\n",
    "for ch in reversed_iter:\n",
    "    print(ch, end=\" \")  \n"
   ]
  },
  {
   "cell_type": "markdown",
   "metadata": {},
   "source": [
    "Assignment 11: Stateful Generators\n",
    "\n",
    "Write a stateful generator function named counter that takes a start value and increments it by 1 each time it is called. Test the generator by iterating over it and printing the first 10 values."
   ]
  },
  {
   "cell_type": "code",
   "execution_count": 9,
   "metadata": {},
   "outputs": [
    {
     "name": "stdout",
     "output_type": "stream",
     "text": [
      "1 2 3 4 5 6 7 8 9 10 "
     ]
    }
   ],
   "source": [
    "## Stateful generator function\n",
    "def counter(start):\n",
    "    while True:\n",
    "        yield start\n",
    "        start += 1\n",
    "\n",
    "## Create a counter generator\n",
    "counter_generator = counter(1)\n",
    "\n",
    "## Print the first 10 numbers\n",
    "for _ in range(10):\n",
    "    print(next(counter_generator), end=\" \")  # Output: 1, 2, 3,\n"
   ]
  },
  {
   "cell_type": "markdown",
   "metadata": {},
   "source": [
    "Assignment 12: Generator with Exception Handling\n",
    "\n",
    "Write a generator function named safe_divide that takes a list of numbers and yields the division of each number by a given divisor. Implement exception handling within the generator to handle division by zero."
   ]
  },
  {
   "cell_type": "code",
   "execution_count": 11,
   "metadata": {},
   "outputs": [
    {
     "name": "stdout",
     "output_type": "stream",
     "text": [
      "Dividing by 2:\n",
      "5.0\n",
      "10.0\n",
      "\n",
      "Dividing by 0:\n",
      "Error: Cannot divide by zero\n",
      "Error: Cannot divide by zero\n"
     ]
    }
   ],
   "source": [
    "## Write a generator function\n",
    "def safe_divide(numbers, divisor):\n",
    "    for num in numbers:\n",
    "        try:\n",
    "            yield num / divisor\n",
    "        except ZeroDivisionError:\n",
    "            yield \"Error: Cannot divide by zero\"\n",
    "            \n",
    "## Test the genertor\n",
    "numbers = [10, 20]\n",
    "\n",
    "## Case1: valid division\n",
    "print( f\"Dividing by 2:\")\n",
    "for result in safe_divide(numbers, 2):\n",
    "    print(result)\n",
    "\n",
    "## Case2: division by zero\n",
    "print(\"\\nDividing by 0:\")\n",
    "for result in safe_divide(numbers, 0):\n",
    "    print(result)\n",
    "\n",
    "\n"
   ]
  },
  {
   "cell_type": "markdown",
   "metadata": {},
   "source": [
    "Assignment 13: Context Manager Decorator\n",
    "\n",
    "Write a decorator named open_file that manages the opening and closing of a file. Apply this decorator to a function that writes some text to a file."
   ]
  },
  {
   "cell_type": "code",
   "execution_count": 13,
   "metadata": {},
   "outputs": [
    {
     "name": "stdout",
     "output_type": "stream",
     "text": [
      "Text written to file.\n"
     ]
    }
   ],
   "source": [
    "## Write a decorator named open_file\n",
    "def open_file(file_name, mode):\n",
    "    def decorator(func):\n",
    "        def wrapper(*args, **kwargs):\n",
    "            with open (file_name, mode) as file:\n",
    "                return func(file, *args, **kwargs)\n",
    "        return wrapper\n",
    "    return decorator\n",
    "\n",
    "## Apply the decorator to a function that writes to a file\n",
    "@open_file(\"output.txt\", \"w\")\n",
    "def write_text(file, text):\n",
    "    file.write(text)\n",
    "    print(\"Text written to file.\")\n",
    "\n",
    "# Test the function\n",
    "write_text(\"Hello! This is written using a context manager decorator.\")\n",
    "\n",
    "           \n"
   ]
  },
  {
   "cell_type": "markdown",
   "metadata": {},
   "source": [
    "Assignment 14: Infinite Iterator\n",
    "\n",
    "Create an infinite iterator class named InfiniteCounter that starts from a given number and increments by 1 indefinitely. Test the iterator by printing the first 10 values generated by it."
   ]
  },
  {
   "cell_type": "code",
   "execution_count": 16,
   "metadata": {},
   "outputs": [
    {
     "name": "stdout",
     "output_type": "stream",
     "text": [
      "1 2 3 4 5 6 7 8 9 10 "
     ]
    }
   ],
   "source": [
    "## Create a class\n",
    "class InfiniteCounter:\n",
    "    def __init__(self, start=0):\n",
    "        self.current = start\n",
    "\n",
    "    def __iter__(self):\n",
    "        return self\n",
    "    \n",
    "    def __next__(self):\n",
    "        value= self.current\n",
    "        self.current += 1\n",
    "        return value\n",
    "    \n",
    "# Test the infinite iterator\n",
    "counter = InfiniteCounter(1)\n",
    "\n",
    "# Print first 10 values\n",
    "for _ in range(10):\n",
    "    print(next(counter), end=\" \")  # Output: 1 2 3 4 5 6 7 8 9 10  \n",
    "        \n",
    "    \n",
    "    \n",
    "        "
   ]
  },
  {
   "cell_type": "markdown",
   "metadata": {},
   "source": [
    "Assignment 15: Generator Pipeline\n",
    "\n",
    "Write three generator functions: integers that yields integers from 1 to 10, doubles that yields each integer doubled, and negatives that yields the negative of each doubled value. Chain these generators to create a pipeline that produces the negative doubled values of integers from 1 to 10."
   ]
  },
  {
   "cell_type": "code",
   "execution_count": 17,
   "metadata": {},
   "outputs": [
    {
     "name": "stdout",
     "output_type": "stream",
     "text": [
      "-2 -4 -6 -8 -10 -12 -14 -16 -18 -20 "
     ]
    }
   ],
   "source": [
    "## Generator that yields integers from 1 to 10\n",
    "def integers():\n",
    "    for i in range(1, 11):\n",
    "        yield i\n",
    "\n",
    "## Generator that yields each integer doubled\n",
    "def double_integers():\n",
    "    for i in integers():\n",
    "        yield i * 2\n",
    "\n",
    "## Generator that yields -ve of doubled value\n",
    "def neg_double_integers():\n",
    "    for i in double_integers():\n",
    "        yield -i\n",
    "\n",
    "## Chain them to create pipeline\n",
    "gen = neg_double_integers()\n",
    "for i in gen:\n",
    "    print(i,end=\" \")\n"
   ]
  }
 ],
 "metadata": {
  "kernelspec": {
   "display_name": "Python 3",
   "language": "python",
   "name": "python3"
  },
  "language_info": {
   "codemirror_mode": {
    "name": "ipython",
    "version": 3
   },
   "file_extension": ".py",
   "mimetype": "text/x-python",
   "name": "python",
   "nbconvert_exporter": "python",
   "pygments_lexer": "ipython3",
   "version": "3.12.0"
  }
 },
 "nbformat": 4,
 "nbformat_minor": 2
}
