{
 "cells": [
  {
   "cell_type": "markdown",
   "metadata": {},
   "source": [
    "### Oop Assignment:"
   ]
  },
  {
   "cell_type": "markdown",
   "metadata": {},
   "source": [
    "Assignment 1: Polymorphism with Methods\n",
    "\n",
    "Create a base class named Shape with a method area. Create two derived classes Circle and Square that override the area method. Create a list of Shape objects and call the area method on each object to demonstrate polymorphism."
   ]
  },
  {
   "cell_type": "code",
   "execution_count": 1,
   "metadata": {},
   "outputs": [
    {
     "name": "stdout",
     "output_type": "stream",
     "text": [
      "Area of circle: 153.86\n",
      "Area of square: 16\n"
     ]
    }
   ],
   "source": [
    "## Base class\n",
    "class Shape:\n",
    "    def area(self):\n",
    "        pass\n",
    "\n",
    "## Derived class 1\n",
    "class Circle(Shape):\n",
    "    def __init__(self, radius):\n",
    "        self.radius = radius\n",
    "    def area(self):\n",
    "        return 3.14 * (self.radius ** 2)\n",
    "\n",
    "## Derived class 2:\n",
    "class Square(Shape):\n",
    "    def __init__(self, side):\n",
    "        self.side = side\n",
    "    def area(self):\n",
    "        return self.side ** 2\n",
    "\n",
    "## Create objects\n",
    "circle = Circle(7)\n",
    "square = Square(4)\n",
    "\n",
    "## Call methods\n",
    "print( f\"Area of circle:\",circle.area())  # Output: 153.86\n",
    "print( f\"Area of square:\",square.area())   # Output: 16"
   ]
  },
  {
   "cell_type": "markdown",
   "metadata": {},
   "source": [
    "Assignment 2: Polymorphism with Function Arguments\n",
    "\n",
    "Create a function named describe_shape that takes a Shape object as an argument and calls its area method. Create objects of Circle and Square classes and pass them to the describe_shape function."
   ]
  },
  {
   "cell_type": "code",
   "execution_count": 3,
   "metadata": {},
   "outputs": [
    {
     "name": "stdout",
     "output_type": "stream",
     "text": [
      "The area of shape is: {78.5}\n",
      "The area of shape is: {16}\n"
     ]
    }
   ],
   "source": [
    "## Create a function\n",
    "def describe_shape(shape):\n",
    "    print( \"The area of shape is:\", {shape.area()})\n",
    "\n",
    "## Create objects of circle and square\n",
    "circle = Circle(5)\n",
    "square = Square(4)\n",
    "\n",
    "## Call the function with the objects\n",
    "describe_shape(circle)\n",
    "describe_shape(square)\n",
    "\n"
   ]
  },
  {
   "cell_type": "markdown",
   "metadata": {},
   "source": [
    "Assignment 3: Abstract Base Class with Abstract Methods\n",
    "\n",
    "Create an abstract base class named Vehicle with an abstract method start_engine. Create derived classes Car and Bike that implement the start_engine method. Create objects of the derived classes and call the start_engine method."
   ]
  },
  {
   "cell_type": "code",
   "execution_count": 4,
   "metadata": {},
   "outputs": [
    {
     "name": "stdout",
     "output_type": "stream",
     "text": [
      "Car engine started\n",
      "Bike engine started\n"
     ]
    }
   ],
   "source": [
    "from abc import ABC, abstractmethod\n",
    "class Vehicle(ABC):\n",
    "    @abstractmethod\n",
    "    def start_engine(self):\n",
    "        pass\n",
    "\n",
    "## Derived class 1\n",
    "class Car(Vehicle):\n",
    "    def start_engine(self):\n",
    "        print(\"Car engine started\")\n",
    "\n",
    "## Derived class 2\n",
    "class Bike(Vehicle):\n",
    "    def start_engine(self):\n",
    "        print(\"Bike engine started\")\n",
    "\n",
    "## Create objects\n",
    "car = Car()\n",
    "bike = Bike()\n",
    "\n",
    "## Call methods\n",
    "car.start_engine()  # Output: Car engine started\n",
    "bike.start_engine()  # Output: Bike engine started"
   ]
  },
  {
   "cell_type": "markdown",
   "metadata": {},
   "source": [
    "Assignment 4: Abstract Base Class with Concrete Methods\n",
    "\n",
    "In the Vehicle class, add a concrete method fuel_type that returns a generic fuel type. Override this method in Car and Bike classes to return specific fuel types. Create objects of the derived classes and call the fuel_type method."
   ]
  },
  {
   "cell_type": "code",
   "execution_count": 7,
   "metadata": {},
   "outputs": [
    {
     "name": "stdout",
     "output_type": "stream",
     "text": [
      "Car: Diesel\n",
      "Bike: Electric\n"
     ]
    }
   ],
   "source": [
    "class Vehicle(ABC):\n",
    "    @abstractmethod\n",
    "    def start_engine(self):\n",
    "        pass\n",
    "    \n",
    "## Add a concrete method\n",
    "    def fuel_type(self):\n",
    "        return \"Gasoline\"\n",
    "    \n",
    "## Derived class 1    \n",
    "class Car(Vehicle):\n",
    "    def start_engine(self):\n",
    "        print(\"Car engine started\")\n",
    "\n",
    "    def fuel_type(self):\n",
    "        return \"Diesel\"\n",
    "    \n",
    "## Derived class 2\n",
    "class Bike(Vehicle):\n",
    "    def start_engine(self):\n",
    "        print(\"Bike engine started\")\n",
    "        \n",
    "    def fuel_type(self):\n",
    "        return \"Electric\"\n",
    "    \n",
    "## Create objects\n",
    "car = Car()\n",
    "bike = Bike()\n",
    "\n",
    "## Call the method on each object\n",
    "print( f\"Car:\",car.fuel_type())  # Output: Diesel\n",
    "print( f\"Bike:\", bike.fuel_type())  # Output: Electric"
   ]
  },
  {
   "cell_type": "markdown",
   "metadata": {},
   "source": [
    "Assignment 5: Encapsulation with Private Attributes\n",
    "\n",
    "Create a class named BankAccount with private attributes account_number and balance. Add methods to deposit and withdraw money, and to check the balance. Ensure that the balance cannot be accessed directly."
   ]
  },
  {
   "cell_type": "code",
   "execution_count": 8,
   "metadata": {},
   "outputs": [
    {
     "name": "stdout",
     "output_type": "stream",
     "text": [
      "Insufficient balance!\n",
      "Your current balance is: $2300.0\n"
     ]
    }
   ],
   "source": [
    "## Create a class\n",
    "class BankAccount:\n",
    "    def __init__(self, account_number, balance=0):\n",
    "        self.__account_number = account_number ## private attribute\n",
    "        self.__balance = balance\n",
    "\n",
    "    def deposit(self):\n",
    "        amount = float(input(\"Enter the amount to deposit: $\"))\n",
    "        self.__balance += amount\n",
    "\n",
    "    def  withdraw(self):\n",
    "        amount = float(input(\"Enter the amount to withdraw: $\"))\n",
    "        if amount > self.__balance:\n",
    "            print(\"Insufficient balance!\")\n",
    "        else: self.__balance -= amount\n",
    "\n",
    "    def  check_balance(self):\n",
    "        print(f\"Your current balance is: ${self.__balance}\")\n",
    "\n",
    "## Create objects\n",
    "account = BankAccount(\"1234567890\", 2000)\n",
    "\n",
    "## Call methods\n",
    "account.deposit()\n",
    "account.withdraw()\n",
    "account.check_balance()"
   ]
  },
  {
   "cell_type": "markdown",
   "metadata": {},
   "source": [
    "Assignment 6: Combining Encapsulation and Inheritance\n",
    "\n",
    "Create a base class named Person with private attributes name and age. Add methods to get and set these attributes. Create a derived class named Student that adds an attribute student_id. Create an object of the Student class and test the encapsulation."
   ]
  },
  {
   "cell_type": "code",
   "execution_count": 15,
   "metadata": {},
   "outputs": [
    {
     "name": "stdout",
     "output_type": "stream",
     "text": [
      "Nayel 20 S1234\n",
      "Neha 18 S1234\n"
     ]
    }
   ],
   "source": [
    "## Base class\n",
    "class Person:\n",
    "    def __init__(self, name, age):\n",
    "        self.__name = name ## private attribute\n",
    "        self.__age = age \n",
    "\n",
    "    def get_name(self):\n",
    "        return self.__name\n",
    "    \n",
    "    def get_age(self):\n",
    "        return self.__age\n",
    "    \n",
    "    def set_name(self, name):\n",
    "        self.__name = name\n",
    "\n",
    "    def set_age(self, age):\n",
    "        self.__age = age\n",
    "\n",
    "## Derived class\n",
    "class Student(Person):\n",
    "    def __init__(self, name, age, student_id):\n",
    "        super().__init__(name, age) ## call base class constructor\n",
    "        self.student_id = student_id\n",
    "\n",
    "## Create an object\n",
    "student = Student(\"Nayel\", 20, \"S1234\")\n",
    "\n",
    "## Access attributes\n",
    "print(student.get_name(), student.get_age(), student.student_id)  # Output: Nayel 20 S1234\n",
    "\n",
    "student.set_name(\"Neha\")\n",
    "student.set_age(18)\n",
    "\n",
    "print(student.get_name(), student.get_age(), student.student_id)  # Output: Neha 18 S1234\n",
    "\n",
    "\n",
    "\n",
    "\n"
   ]
  },
  {
   "cell_type": "markdown",
   "metadata": {},
   "source": [
    "Assignment 7: Abstract Methods in Base Class\n",
    "\n",
    "Create an abstract base class named Employee with an abstract method calculate_salary. Create two derived classes FullTimeEmployee and PartTimeEmployee that implement the calculate_salary method. Create objects of the derived classes and call the calculate_salary method."
   ]
  },
  {
   "cell_type": "code",
   "execution_count": 5,
   "metadata": {},
   "outputs": [
    {
     "name": "stdout",
     "output_type": "stream",
     "text": [
      "50000\n",
      "200\n"
     ]
    }
   ],
   "source": [
    "from abc import ABC, abstractmethod\n",
    "class Employee(ABC):\n",
    "    @abstractmethod\n",
    "    def calculate_salary(self):\n",
    "        pass\n",
    "\n",
    "## Derived class 1\n",
    "class FulltimeEmployee(Employee):\n",
    "    def __init__(self, salary):\n",
    "        self.salary = salary\n",
    "\n",
    "    def calculate_salary(self):\n",
    "        return self.salary\n",
    "    \n",
    " ## Derived class 2\n",
    "class ParttimeEmployee(Employee):\n",
    "    def __init__(self, hourly_wage, hours_worked):\n",
    "        self.hourly_wage = hourly_wage\n",
    "        self.hours_worked = hours_worked\n",
    "\n",
    "    def calculate_salary(self):\n",
    "        return self.hourly_wage * self.hours_worked\n",
    "        \n",
    "    \n",
    "## Create objects\n",
    "fulltime_employee = FulltimeEmployee( 50000)\n",
    "parttime_employee = ParttimeEmployee( 20, 10)\n",
    "\n",
    "## Call the method\n",
    "print(fulltime_employee.calculate_salary())\n",
    "print(parttime_employee.calculate_salary())\n",
    "        "
   ]
  },
  {
   "cell_type": "markdown",
   "metadata": {},
   "source": [
    "Assignment 8: Encapsulation in Data Classes\n",
    "\n",
    "Create a data class named Product with private attributes product_id, name, and price. Add methods to get and set these attributes. Ensure that the price cannot be set to a negative value."
   ]
  },
  {
   "cell_type": "code",
   "execution_count": 7,
   "metadata": {},
   "outputs": [
    {
     "name": "stdout",
     "output_type": "stream",
     "text": [
      "Apple 10.99 1\n",
      "Mango 5.99 2\n"
     ]
    }
   ],
   "source": [
    "class Product:\n",
    "    def __init__(self, name, price, product_id):\n",
    "        self.__name = name ## private attribute\n",
    "        self.__price = price\n",
    "        self.__product_id = product_id\n",
    "\n",
    "    def get_name(self):\n",
    "        return self.__name\n",
    "    \n",
    "    def get_price(self):\n",
    "        return self.__price\n",
    "    \n",
    "    def get_product_id(self):\n",
    "        return self.__product_id\n",
    "    \n",
    "    def set_name(self, name):\n",
    "        self.__name = name\n",
    "\n",
    "    def set_price(self,price ):\n",
    "        if price < 0:\n",
    "            print( \"It cannot be a negative value\")\n",
    "        else:\n",
    "            self.__price= price\n",
    "\n",
    "    def set_product_id(self, product_id):\n",
    "        self.__product_id = product_id\n",
    "\n",
    "## Create objects\n",
    "product = Product(\"Apple\", 10.99, 1)\n",
    "\n",
    "## Access attributes\n",
    "print(product.get_name(), product.get_price(), product.get_product_id())\n",
    "\n",
    "product.set_name(\"Mango\")\n",
    "product.set_price(5.99)\n",
    "product.set_product_id(2)\n",
    "\n",
    "print(product.get_name(), product.get_price(), product.get_product_id())\n",
    "\n",
    "\n",
    "        \n"
   ]
  },
  {
   "cell_type": "markdown",
   "metadata": {},
   "source": [
    "Assignment 9: Polymorphism with Operator Overloading\n",
    "\n",
    "Create a class named Vector with attributes x and y. Overload the + operator to add two Vector objects. Create objects of the class and test the operator overloading."
   ]
  },
  {
   "cell_type": "code",
   "execution_count": 8,
   "metadata": {},
   "outputs": [
    {
     "name": "stdout",
     "output_type": "stream",
     "text": [
      "(4, 6)\n"
     ]
    }
   ],
   "source": [
    "## Create a class\n",
    "class Vector:\n",
    "    def __init__(self, x, y):\n",
    "        self.x=x\n",
    "        self.y=y\n",
    "\n",
    "    def __add__(self,others):\n",
    "        return (self.x + others.x , self.y + others.y)\n",
    "    def __str__(self):\n",
    "        return f\"({self.x},{self.y})\"\n",
    "    \n",
    "## Create objects\n",
    "v1 = Vector(1, 2)\n",
    "v2 = Vector(3, 4)\n",
    "\n",
    "## Test\n",
    "print(v1 + v2)  # Output: (4, 6)"
   ]
  },
  {
   "cell_type": "markdown",
   "metadata": {},
   "source": [
    "Assignment 10: Abstract Properties\n",
    "\n",
    "Create an abstract base class named Appliance with an abstract property power. Create two derived classes WashingMachine and Refrigerator that implement the power property. Create objects of the derived classes and access the power property."
   ]
  },
  {
   "cell_type": "code",
   "execution_count": 10,
   "metadata": {},
   "outputs": [
    {
     "name": "stdout",
     "output_type": "stream",
     "text": [
      "WashingMachine: 500\n",
      "Refrigerator: 1000\n"
     ]
    }
   ],
   "source": [
    "from abc import ABC, abstractmethod\n",
    "class Appliance(ABC):\n",
    "    @abstractmethod\n",
    "    def power(self):\n",
    "        pass\n",
    "\n",
    "## Derived class 1\n",
    "class WashingMachine(Appliance):\n",
    "    def power(self):\n",
    "        return 500\n",
    "    \n",
    "## Derived class 2\n",
    "class Refrigerator(Appliance):\n",
    "    def power(self):\n",
    "        return 1000\n",
    "\n",
    "## Create objects\n",
    "washing_machine = WashingMachine()\n",
    "refrigerator = Refrigerator()\n",
    "\n",
    "## Call the power method\n",
    "print( f\"WashingMachine:\",washing_machine.power())  # Output: 500\n",
    "print( f\"Refrigerator:\", refrigerator.power())  # Output: 1000\n",
    "\n",
    "\n",
    "\n"
   ]
  },
  {
   "cell_type": "markdown",
   "metadata": {},
   "source": [
    "Assignment 11: Encapsulation in Class Hierarchies\n",
    "\n",
    "Create a base class named Account with private attributes account_number and balance. Add methods to get and set these attributes. Create a derived class named SavingsAccount that adds an attribute interest_rate. Create an object of the SavingsAccount class and test the encapsulation."
   ]
  },
  {
   "cell_type": "code",
   "execution_count": 11,
   "metadata": {},
   "outputs": [
    {
     "name": "stdout",
     "output_type": "stream",
     "text": [
      "1234567890 1000 0.05\n",
      "1234567890 2000 0.05\n"
     ]
    }
   ],
   "source": [
    "## Base class\n",
    "class Account:\n",
    "    def __init__(self, account_number, balance=0):\n",
    "        self.__account_number = account_number\n",
    "        self.__balance = balance\n",
    "\n",
    "    def get_account_number(self):\n",
    "        return self.__account_number\n",
    "    \n",
    "    def get_balance(self):\n",
    "        return self.__balance\n",
    "    \n",
    "    def set_balance(self, balance):\n",
    "        if balance < 0:\n",
    "            print( \"Invalid balance. Please enter a valid balance.\" )\n",
    "        else: self.__balance = balance\n",
    "\n",
    "## Derived class\n",
    "class SavingsAccount(Account):\n",
    "    def __init__(self, account_number, balance=0, interest_rate=0.02):\n",
    "        super().__init__(account_number, balance)\n",
    "        self.interest_rate = interest_rate\n",
    "\n",
    "## Create object\n",
    "savings_account = SavingsAccount(\"1234567890\", 1000, 0.05)\n",
    "\n",
    "## Access attributes\n",
    "print(savings_account.get_account_number(), savings_account.get_balance(), savings_account.interest_rate)\n",
    "\n",
    "savings_account.set_balance(2000)\n",
    "\n",
    "print(savings_account.get_account_number(), savings_account.get_balance(), savings_account.interest_rate)\n",
    "\n",
    "\n"
   ]
  }
 ],
 "metadata": {
  "kernelspec": {
   "display_name": "Python 3",
   "language": "python",
   "name": "python3"
  },
  "language_info": {
   "codemirror_mode": {
    "name": "ipython",
    "version": 3
   },
   "file_extension": ".py",
   "mimetype": "text/x-python",
   "name": "python",
   "nbconvert_exporter": "python",
   "pygments_lexer": "ipython3",
   "version": "3.12.0"
  }
 },
 "nbformat": 4,
 "nbformat_minor": 2
}
