{
 "cells": [
  {
   "cell_type": "markdown",
   "metadata": {},
   "source": [
    "### Inheritance Assignment:"
   ]
  },
  {
   "cell_type": "markdown",
   "metadata": {},
   "source": [
    "Assignment 1: Single Inheritance Basic\n",
    "\n",
    "Create a base class named Animal with attributes name and species. Create a derived class named Dog that inherits from Animal and adds an attribute breed. Create an object of the Dog class and print its attributes."
   ]
  },
  {
   "cell_type": "code",
   "execution_count": 1,
   "metadata": {},
   "outputs": [
    {
     "name": "stdout",
     "output_type": "stream",
     "text": [
      "Name: Fido\n",
      "Species: Canine\n",
      "Breed: Golden Retriever\n"
     ]
    }
   ],
   "source": [
    "## Create a base class\n",
    "class Animal:\n",
    "    def __init__(self, name, species):\n",
    "        self.name = name\n",
    "        self.species= species\n",
    "\n",
    "## Derived class\n",
    "class Dog(Animal):\n",
    "    def __init__(self, name, species, breed):\n",
    "        super().__init__(name, species)\n",
    "        self.breed = breed\n",
    "\n",
    "## Create an object\n",
    "dog = Dog(\"Fido\", \"Canine\", \"Golden Retriever\")\n",
    "\n",
    "## Print attributes\n",
    "print( f\"Name:\", dog.name)  # Output: Fido\n",
    "print( f\"Species:\", dog.species)  # Output: Canine\n",
    "print( f\"Breed:\", dog.breed)  # Output: Golden Retriever"
   ]
  },
  {
   "cell_type": "markdown",
   "metadata": {},
   "source": [
    "Assignment 2: Method Overriding in Single Inheritance\n",
    "\n",
    "In the Dog class, override the __str__ method to return a string representation of the object. Create an object of the class and print it."
   ]
  },
  {
   "cell_type": "code",
   "execution_count": 2,
   "metadata": {},
   "outputs": [
    {
     "name": "stdout",
     "output_type": "stream",
     "text": [
      "Zoro is 5 years old\n"
     ]
    }
   ],
   "source": [
    "## Create a class\n",
    "class Dog:\n",
    "    def __init__(self, name, age):\n",
    "        self.name = name\n",
    "        self.age = age\n",
    "\n",
    "    def __str__(self):\n",
    "        return f\"{self.name} is {self.age} years old\"\n",
    "    \n",
    "## Create an object\n",
    "dog = Dog(\"Zoro\", 5)\n",
    "print(dog)  # Output: Zoro is 5 years old"
   ]
  },
  {
   "cell_type": "markdown",
   "metadata": {},
   "source": [
    "Assignment 3: Single Inheritance with Additional Methods\n",
    "\n",
    "In the Dog class, add a method named bark that prints a barking sound. Create an object of the class and call the method."
   ]
  },
  {
   "cell_type": "code",
   "execution_count": 3,
   "metadata": {},
   "outputs": [
    {
     "name": "stdout",
     "output_type": "stream",
     "text": [
      "Woof!\n"
     ]
    }
   ],
   "source": [
    "## Create a class\n",
    "class Dog:\n",
    "\n",
    "## Create a method\n",
    "    def bark(self):\n",
    "        print(\"Woof!\")\n",
    "\n",
    "## Create an object\n",
    "my_dog = Dog()\n",
    "\n",
    "## Call method\n",
    "my_dog.bark()  # Output: Woof!\n",
    "\n"
   ]
  },
  {
   "cell_type": "markdown",
   "metadata": {},
   "source": [
    "Assignment 4: Multiple Inheritance Basic\n",
    "\n",
    "Create a base class named Walker with a method walk that prints a walking message. Create another base class named Runner with a method run that prints a running message. Create a derived class named Athlete that inherits from both Walker and Runner. Create an object of the Athlete class and call both methods."
   ]
  },
  {
   "cell_type": "code",
   "execution_count": 4,
   "metadata": {},
   "outputs": [
    {
     "name": "stdout",
     "output_type": "stream",
     "text": [
      "I am walking\n",
      "I am running\n"
     ]
    }
   ],
   "source": [
    "## Base class 1\n",
    "class Walker:\n",
    "\n",
    "## Create method\n",
    "    def walk(self):\n",
    "        print(\"I am walking\")\n",
    "\n",
    "## Base class 2\n",
    "class Runner:\n",
    "\n",
    "## Create method\n",
    "    def run(self):\n",
    "        print(\"I am running\")\n",
    "\n",
    "## Derived class\n",
    "class Athlete(Walker,Runner):\n",
    "    pass\n",
    "\n",
    "## Create an object \n",
    "a = Athlete()\n",
    "\n",
    "## Call the methods\n",
    "a.walk()\n",
    "a.run()\n",
    "\n",
    "\n",
    " \n",
    "\n"
   ]
  },
  {
   "cell_type": "markdown",
   "metadata": {},
   "source": [
    "Assignment 5: Method Resolution Order (MRO) in Multiple Inheritance\n",
    "\n",
    "In the Athlete class, override the walk method to print a different message. Create an object of the class and call the walk method. Use the super() function to call the walk method of the Walker class."
   ]
  },
  {
   "cell_type": "code",
   "execution_count": 7,
   "metadata": {},
   "outputs": [
    {
     "name": "stdout",
     "output_type": "stream",
     "text": [
      "Nayel is walking in park.\n",
      "He is walking.\n"
     ]
    }
   ],
   "source": [
    "## Base class\n",
    "class Walker:\n",
    "\n",
    "    def walk(self):\n",
    "        print(\"He is walking.\")\n",
    "\n",
    "## Derived class\n",
    "class Athlete(Walker):\n",
    "    def walk(self):\n",
    "        print(\"Nayel is walking in park.\")\n",
    "        super().walk()\n",
    "\n",
    "## Create an object\n",
    "athlete = Athlete()\n",
    "athlete.walk()  \n"
   ]
  },
  {
   "cell_type": "markdown",
   "metadata": {},
   "source": [
    "Assignment 6: Multiple Inheritance with Additional Attributes\n",
    "\n",
    "In the Athlete class, add an attribute training_hours and a method train that prints the training hours. Create an object of the class and call the method."
   ]
  },
  {
   "cell_type": "code",
   "execution_count": 9,
   "metadata": {},
   "outputs": [
    {
     "name": "stdout",
     "output_type": "stream",
     "text": [
      "Training hours: 7\n"
     ]
    }
   ],
   "source": [
    "## Create a class\n",
    "class Athlete(Walker,Runner):\n",
    "    def __init__(self, training_hours):\n",
    "        self.training_hours = training_hours\n",
    "\n",
    "    def train(self):\n",
    "        self.training_hours += 1\n",
    "        print( f\"Training hours: {self.training_hours}\")\n",
    "\n",
    "## Create an object\n",
    "athlete = Athlete (6)\n",
    "\n",
    "## Call the method\n",
    "athlete.train()\n",
    "\n"
   ]
  },
  {
   "cell_type": "markdown",
   "metadata": {},
   "source": [
    "Assignment 7: Diamond Problem in Multiple Inheritance\n",
    "\n",
    "Create a class named A with a method show that prints a message. Create two derived classes B and C that inherit from A and override the show method. Create a class D that inherits from both B and C. Create an object of the D class and call the show method. Observe the method resolution order."
   ]
  },
  {
   "cell_type": "code",
   "execution_count": 11,
   "metadata": {},
   "outputs": [
    {
     "name": "stdout",
     "output_type": "stream",
     "text": [
      "Hello, I am B\n",
      "Hello, I am C\n",
      "Hello, I am A\n"
     ]
    }
   ],
   "source": [
    "## Create a base class\n",
    "class A:\n",
    "    def show(self):\n",
    "        print(\"Hello, I am A\")\n",
    "\n",
    "## Derived class 1\n",
    "class B(A):\n",
    "    def show(self):\n",
    "        print(\"Hello, I am B\")\n",
    "        super().show()\n",
    "\n",
    "## Derived class 2\n",
    "class C(A):\n",
    "    def show(self):\n",
    "        print(\"Hello, I am C\")\n",
    "        super().show()\n",
    "\n",
    "## A new class\n",
    "class D(B, C):\n",
    "    pass\n",
    "\n",
    "## Create an object of D class\n",
    "d=D()\n",
    "d.show()  \n",
    "        \n",
    "\n",
    "\n",
    "\n",
    "\n",
    "\n"
   ]
  },
  {
   "cell_type": "markdown",
   "metadata": {},
   "source": [
    "Assignment 8: Using super() in Single Inheritance\n",
    "\n",
    "Create a base class named Shape with an attribute color. Create a derived class named Circle that inherits from Shape and adds an attribute radius. Use the super() function to initialize the attributes. Create an object of the Circle class and print its attributes."
   ]
  },
  {
   "cell_type": "code",
   "execution_count": 2,
   "metadata": {},
   "outputs": [
    {
     "name": "stdout",
     "output_type": "stream",
     "text": [
      "Color: blue\n",
      "Radius: 7\n"
     ]
    }
   ],
   "source": [
    "## Base class\n",
    "class Shape:\n",
    "    def __init__(self, color):\n",
    "        self.color = color\n",
    "\n",
    "## Derived class\n",
    "class Circle(Shape):\n",
    "    def __init__(self, color, radius):\n",
    "        super().__init__(color)  # Calls the base class constructor\n",
    "        self.radius = radius\n",
    "\n",
    "## Create an object\n",
    "circle = Circle(\"blue\", 7)\n",
    "\n",
    "## Print attributes\n",
    "print( f\"Color:\", circle.color)  # Output: blue\n",
    "print( f\"Radius:\", circle.radius)  # Output: 5\n"
   ]
  },
  {
   "cell_type": "markdown",
   "metadata": {},
   "source": [
    "Assignment 9: Using super() in Multiple Inheritance\n",
    "\n",
    "Create a class named Person with an attribute name. Create a class named Employee with an attribute employee_id. Create a derived class Manager that inherits from both Person and Employee. Use the super() function to initialize the attributes. Create an object of the Manager class and print its attributes."
   ]
  },
  {
   "cell_type": "code",
   "execution_count": 7,
   "metadata": {},
   "outputs": [
    {
     "name": "stdout",
     "output_type": "stream",
     "text": [
      "Name: Ahsan\n",
      "Employee_id: 12345\n",
      "Department: Sales\n"
     ]
    }
   ],
   "source": [
    "## Base class 1\n",
    "class Person:\n",
    "    def __init__(self, name):\n",
    "        self.name = name\n",
    "\n",
    "## Base class 2\n",
    "class Employee:\n",
    "    def __init__(self, employee_id):\n",
    "        self.employee_id = employee_id\n",
    "\n",
    "## Derived class\n",
    "class Manager(Person,Employee):\n",
    "    def __init__(self, name, employee_id, department):\n",
    "        Person.__init__(self, name)\n",
    "        Employee.__init__(self, employee_id)\n",
    "        self.department= department\n",
    "    \n",
    "\n",
    "## Create an object\n",
    "manager=Manager(\"Ahsan\", 12345, \"Sales\")\n",
    "\n",
    "## Accessing attributes\n",
    "print( f\"Name:\", manager.name)  # Output: Ahsan\n",
    "print( f\"Employee_id:\", manager.employee_id)  # Output: 12345\n",
    "print( f\"Department:\", manager.department)  # Output: Sales\n",
    "\n"
   ]
  },
  {
   "cell_type": "markdown",
   "metadata": {},
   "source": [
    "Assignment 10: Method Overriding and super()\n",
    "\n",
    "Create a class named Vehicle with a method start that prints a starting message. Create a derived class Car that overrides the start method to print a different message. Use the super() function to call the start method of the Vehicle class. Create an object of the Car class and call the start method."
   ]
  },
  {
   "cell_type": "code",
   "execution_count": 9,
   "metadata": {},
   "outputs": [
    {
     "name": "stdout",
     "output_type": "stream",
     "text": [
      "Starting the car\n",
      "Starting the vehicle\n"
     ]
    }
   ],
   "source": [
    "## Base class\n",
    "class Vehicle:\n",
    "    def start(self):\n",
    "        print(\"Starting the vehicle\")\n",
    "\n",
    "## Derived class\n",
    "class Car(Vehicle):\n",
    "    def start(self):\n",
    "        print(\"Starting the car\")\n",
    "        super().start()\n",
    "\n",
    "## Create an object\n",
    "car = Car()\n",
    "\n",
    "## Call the method\n",
    "car.start() "
   ]
  },
  {
   "cell_type": "markdown",
   "metadata": {},
   "source": [
    "Assignment 11: Multiple Inheritance with Different Methods\n",
    "\n",
    "Create a class named Flyer with a method fly that prints a flying message. Create a class named Swimmer with a method swim that prints a swimming message. Create a derived class Superhero that inherits from both Flyer and Swimmer. Create an object of the Superhero class and call both methods."
   ]
  },
  {
   "cell_type": "code",
   "execution_count": 10,
   "metadata": {},
   "outputs": [
    {
     "name": "stdout",
     "output_type": "stream",
     "text": [
      "I am flying\n",
      "I am swimming\n"
     ]
    }
   ],
   "source": [
    "## Base class 1\n",
    "class Flyer:\n",
    "    def fly(self):\n",
    "        print(\"I am flying\")\n",
    "\n",
    "## Base class 2\n",
    "class Swimmer:\n",
    "    def swim(self):\n",
    "        print(\"I am swimming\")\n",
    "\n",
    "## Derived class\n",
    "class Superhero(Flyer, Swimmer):\n",
    "    pass\n",
    "\n",
    "## Create an object\n",
    "superhero = Superhero()\n",
    "\n",
    "## Call the methods\n",
    "superhero.fly()  # Output: I am flying\n",
    "superhero.swim()  # Output: I am swimming\n"
   ]
  },
  {
   "cell_type": "markdown",
   "metadata": {},
   "source": [
    "Assignment 12: Complex Multiple Inheritance\n",
    "\n",
    "Create a class named Base1 with an attribute a. Create a class named Base2 with an attribute b. Create a class named Derived that inherits from both Base1 and Base2 and adds an attribute c. Initialize all attributes using the super() function. Create an object of the Derived class and print its attributes."
   ]
  },
  {
   "cell_type": "code",
   "execution_count": 15,
   "metadata": {},
   "outputs": [
    {
     "name": "stdout",
     "output_type": "stream",
     "text": [
      "1\n",
      "2\n",
      "3\n"
     ]
    }
   ],
   "source": [
    "## Base class 1\n",
    "class Base1:\n",
    "    def __init__(self, a):\n",
    "        self.a = a\n",
    "\n",
    "## Base class 2\n",
    "class Base2:\n",
    "    def __init__(self, b):\n",
    "        self.b = b\n",
    "\n",
    "## Derived class\n",
    "class Derived(Base1, Base2):\n",
    "    def __init__(self, a, b, c):\n",
    "        Base1.__init__(self, a)\n",
    "        Base2.__init__(self, b)\n",
    "        self.c=c\n",
    "\n",
    "## Create an object\n",
    "d=Derived(1, 2, 3)\n",
    "\n",
    "## Print the attributes\n",
    "print(d.a)  # Output: 1\n",
    "print(d.b)\n",
    "print(d.c)\n",
    "        \n",
    "        "
   ]
  },
  {
   "cell_type": "markdown",
   "metadata": {},
   "source": [
    "Assignment 13: Polymorphism with Inheritance\n",
    "\n",
    "Create a base class named Bird with a method speak. Create two derived classes Parrot and Penguin that override the speak method. Create a list of Bird objects and call the speak method on each object to demonstrate polymorphism."
   ]
  },
  {
   "cell_type": "code",
   "execution_count": 16,
   "metadata": {},
   "outputs": [
    {
     "name": "stdout",
     "output_type": "stream",
     "text": [
      "Parrot says: Squak!\n",
      "Penguin says: Eh-eh-eh!\n"
     ]
    }
   ],
   "source": [
    "## Base class\n",
    "class Bird:\n",
    "    def speak(self):\n",
    "        pass\n",
    "\n",
    "## Derived class 1\n",
    "class Parrot(Bird):\n",
    "    def speak(self):\n",
    "        print(\"Parrot says:\", \"Squak!\")\n",
    "\n",
    " ## Derived class 2\n",
    "class Penguin(Bird):\n",
    "    def speak(self):\n",
    "        print(\"Penguin says:\", \"Eh-eh-eh!\")\n",
    "\n",
    "## Create objects\n",
    "par=Parrot()\n",
    "peng=Penguin()\n",
    "\n",
    "## Call method\n",
    "par.speak()\n",
    "peng.speak()\n",
    "\n",
    "       \n",
    "    \n",
    "        \n",
    "       "
   ]
  }
 ],
 "metadata": {
  "kernelspec": {
   "display_name": "Python 3",
   "language": "python",
   "name": "python3"
  },
  "language_info": {
   "codemirror_mode": {
    "name": "ipython",
    "version": 3
   },
   "file_extension": ".py",
   "mimetype": "text/x-python",
   "name": "python",
   "nbconvert_exporter": "python",
   "pygments_lexer": "ipython3",
   "version": "3.12.0"
  }
 },
 "nbformat": 4,
 "nbformat_minor": 2
}
