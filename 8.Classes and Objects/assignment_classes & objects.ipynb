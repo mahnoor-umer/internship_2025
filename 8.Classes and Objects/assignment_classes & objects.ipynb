{
 "cells": [
  {
   "cell_type": "markdown",
   "metadata": {},
   "source": [
    "### Classes and Objects Assignment:"
   ]
  },
  {
   "cell_type": "markdown",
   "metadata": {},
   "source": [
    "Assignment 1: Basic Class and Object Creation\n",
    "\n",
    "Create a class named Car with attributes make, model, and year. Create an object of the class and print its attributes."
   ]
  },
  {
   "cell_type": "code",
   "execution_count": 2,
   "metadata": {},
   "outputs": [
    {
     "name": "stdout",
     "output_type": "stream",
     "text": [
      "Car make: Toyota\n",
      "Car model: Civic\n",
      "Car year: 2022\n"
     ]
    }
   ],
   "source": [
    "## Create a class\n",
    "class Car:\n",
    "    def __init__(self, make, model, year):\n",
    "        self.make = make\n",
    "        self.model = model\n",
    "        self.year = year\n",
    "\n",
    "## Create an object\n",
    "car=Car(\"Toyota\",\"Civic\", 2022)\n",
    "\n",
    "## Print the attributes of the object\n",
    "print( f\"Car make:\", car.make) \n",
    "print( f\"Car model:\", car.model)\n",
    "print( f\"Car year:\", car.year)\n",
    "\n"
   ]
  },
  {
   "cell_type": "markdown",
   "metadata": {},
   "source": [
    "Assignment 2: Methods in Class\n",
    "\n",
    "Add a method named start_engine to the Car class that prints a message when the engine starts. Create an object of the class and call the method."
   ]
  },
  {
   "cell_type": "code",
   "execution_count": 3,
   "metadata": {},
   "outputs": [
    {
     "name": "stdout",
     "output_type": "stream",
     "text": [
      "Vroom! The engine is started.\n"
     ]
    }
   ],
   "source": [
    "## Create a class\n",
    "class Car:\n",
    "    def start_engine(self):\n",
    "        print( f\"Vroom! The engine is started.\")\n",
    "\n",
    "## Create an object\n",
    "car = Car()\n",
    "\n",
    "## Call the method\n",
    "car.start_engine()"
   ]
  },
  {
   "cell_type": "markdown",
   "metadata": {},
   "source": [
    "Assignment 3: Class with Constructor\n",
    "\n",
    "Create a class named Student with attributes name and age. Use a constructor to initialize these attributes. Create an object of the class and print its attributes"
   ]
  },
  {
   "cell_type": "code",
   "execution_count": 5,
   "metadata": {},
   "outputs": [
    {
     "name": "stdout",
     "output_type": "stream",
     "text": [
      "Name: Aliya\n",
      "Age: 18\n"
     ]
    }
   ],
   "source": [
    "## Create a class\n",
    "class Students:\n",
    "    def __init__(self, name, age):\n",
    "        self.name = name\n",
    "        self.age = age\n",
    "\n",
    "## Create an object\n",
    "students=Students(\"Aliya\", 18)  \n",
    "\n",
    "## Print the attributes\n",
    "print( f\"Name:\" , students.name)   \n",
    "print( f\"Age:\" , students.age)"
   ]
  },
  {
   "cell_type": "markdown",
   "metadata": {},
   "source": [
    "Assignment 4: Class with Private Attributes\n",
    "\n",
    "Create a class named BankAccount with private attributes account_number and balance. Add methods to deposit and withdraw money, and to check the balance. Create an object of the class and perform some operations."
   ]
  },
  {
   "cell_type": "code",
   "execution_count": 7,
   "metadata": {},
   "outputs": [
    {
     "data": {
      "text/plain": [
       "25000"
      ]
     },
     "execution_count": 7,
     "metadata": {},
     "output_type": "execute_result"
    }
   ],
   "source": [
    "## Create a class\n",
    "class BankAccount:\n",
    "    def __init__(self, account_number, balance=0):\n",
    "        self.__account_number = account_number ## private attributes\n",
    "        self.__balance = balance\n",
    "\n",
    "    def deposit(self):\n",
    "        amount = int(input(\"Enter the amount to deposit: $\"))\n",
    "        self.__balance += amount\n",
    "\n",
    "    def withdraw(self):\n",
    "        amount = int(input(\"Enter the amount to withdraw: $\"))\n",
    "        if amount > self.__balance:\n",
    "            print(\"Insufficient balance!\")\n",
    "        else:\n",
    "            self.__balance -= amount\n",
    "\n",
    "    def check_balance(self):\n",
    "        return self.__balance\n",
    "    \n",
    "## Create an object\n",
    "account = BankAccount(\"Mahnoor123\", 20000)\n",
    "\n",
    "## Call methods\n",
    "account.deposit()\n",
    "account.withdraw()\n",
    "account.check_balance()\n",
    "\n",
    "    \n",
    "\n",
    "        \n",
    "\n"
   ]
  },
  {
   "cell_type": "markdown",
   "metadata": {},
   "source": [
    "Assignment 5: Class Inheritance\n",
    "\n",
    "Create a base class named Person with attributes name and age. Create a derived class named Employee that inherits from Person and adds an attribute employee_id. Create an object of the derived class and print its attributes."
   ]
  },
  {
   "cell_type": "code",
   "execution_count": 8,
   "metadata": {},
   "outputs": [
    {
     "name": "stdout",
     "output_type": "stream",
     "text": [
      "Name: Aina\n",
      "Age: 20\n",
      "Employee ID: E001\n"
     ]
    }
   ],
   "source": [
    "## Create a base class\n",
    "class Person:\n",
    "    def __init__(self, name, age):\n",
    "        self.name = name\n",
    "        self.age = age\n",
    "\n",
    "## Create a derived class\n",
    "class Employee(Person):\n",
    "    def __init__(self, name, age, employee_id):\n",
    "        super().__init__(name, age)  # Call the constructor of the base class\n",
    "        self.employee_id = employee_id\n",
    "\n",
    "## Create an object\n",
    "emp = Employee(\"Aina\", 20, \"E001\")\n",
    "\n",
    "## Print the attributes\n",
    "print( f\"Name:\", emp.name )\n",
    "print( f\"Age:\", emp.age )\n",
    "print( f\"Employee ID:\", emp.employee_id )"
   ]
  },
  {
   "cell_type": "markdown",
   "metadata": {},
   "source": [
    "Assignment 6: Method Overriding\n",
    "\n",
    "In the Employee class, override the __str__ method to return a string representation of the object. Create an object of the class and print it."
   ]
  },
  {
   "cell_type": "code",
   "execution_count": 11,
   "metadata": {},
   "outputs": [
    {
     "name": "stdout",
     "output_type": "stream",
     "text": [
      "Name: Musa, Age: 30\n"
     ]
    }
   ],
   "source": [
    "## Create a class\n",
    "class Employee:\n",
    "    def __init__(self, name, age):\n",
    "        self.name = name\n",
    "        self.age = age\n",
    "\n",
    "## Override the __str__ method to return a string representation of the object\n",
    "    def __str__(self):\n",
    "        return f\"Name: {self.name}, Age: {self.age}\"\n",
    "    \n",
    "## Create an object\n",
    "emp = Employee(\"Musa\", 30)\n",
    "print(emp)  \n",
    "        "
   ]
  },
  {
   "cell_type": "markdown",
   "metadata": {},
   "source": [
    "Assignment 7: Class Composition\n",
    "\n",
    "Create a class named Address with attributes street, city, and zipcode. Create a class named Person that has an Address object as an attribute. Create an object of the Person class and print its address."
   ]
  },
  {
   "cell_type": "code",
   "execution_count": 14,
   "metadata": {},
   "outputs": [
    {
     "name": "stdout",
     "output_type": "stream",
     "text": [
      "Address: XYZ Main St, Anytown, 12345\n"
     ]
    }
   ],
   "source": [
    "## Create a class\n",
    "class Address:\n",
    "    def __init__(self, street, city, zipcode):\n",
    "        self.street = street\n",
    "        self.city = city\n",
    "        self.zipcode = zipcode\n",
    "\n",
    "class Person:\n",
    "    def __init__(self, address):\n",
    "        self.address = address\n",
    "\n",
    "## Create an object of person class\n",
    "person = Person(Address(\"XYZ Main St\", \"Anytown\", \"12345\"))\n",
    "\n",
    "## Print the address of the person\n",
    "print( f\"Address: {person.address.street}, {person.address.city}, {person.address.zipcode}\")  \n"
   ]
  },
  {
   "cell_type": "markdown",
   "metadata": {},
   "source": [
    "Assignment 8: Class with Class Variables\n",
    "\n",
    "Create a class named Counter with a class variable count. Each time an object is created, increment the count. Add a method to get the current count. Create multiple objects and print the count."
   ]
  },
  {
   "cell_type": "code",
   "execution_count": 21,
   "metadata": {},
   "outputs": [
    {
     "name": "stdout",
     "output_type": "stream",
     "text": [
      "3\n"
     ]
    }
   ],
   "source": [
    "## Create a class\n",
    "class Counter:\n",
    "    count=0\n",
    "\n",
    "    def __init__(self):\n",
    "        Counter.count += 1\n",
    "## Create a method\n",
    "    @classmethod\n",
    "    def get_count(cls):\n",
    "        return cls.count\n",
    "        \n",
    "## Create multiple objects\n",
    "c1 = Counter()\n",
    "c2 = Counter()\n",
    "c3 = Counter()\n",
    "\n",
    "## Print the count\n",
    "print(Counter.get_count())  # Output: 3\n",
    "\n",
    "    \n",
    "    \n",
    "        \n"
   ]
  },
  {
   "cell_type": "markdown",
   "metadata": {},
   "source": [
    "Assignment 9: Static Methods\n",
    "\n",
    "Create a class named MathOperations with a static method to calculate the square root of a number. Call the static method without creating an object."
   ]
  },
  {
   "cell_type": "code",
   "execution_count": 23,
   "metadata": {},
   "outputs": [
    {
     "name": "stdout",
     "output_type": "stream",
     "text": [
      "5.0\n"
     ]
    }
   ],
   "source": [
    "import math\n",
    "\n",
    "## Create a class\n",
    "class MathOperations:\n",
    "    @staticmethod\n",
    "    def square_root(num):\n",
    "        return math.sqrt(num)\n",
    "    \n",
    "## Call the static method without creating an object\n",
    "print(MathOperations.square_root(25)) \n",
    "    \n",
    "\n",
    "        \n",
    "        \n",
    "\n",
    "    \n"
   ]
  },
  {
   "cell_type": "markdown",
   "metadata": {},
   "source": [
    "Assignment 10: Class with Properties\n",
    "\n",
    "Create a class named Rectangle with private attributes length and width. Use properties to get and set these attributes. Create an object of the class and test the properties."
   ]
  },
  {
   "cell_type": "code",
   "execution_count": 6,
   "metadata": {},
   "outputs": [
    {
     "name": "stdout",
     "output_type": "stream",
     "text": [
      "length: 5\n",
      "width: 3\n",
      "New length: 10\n",
      "New width: 6\n"
     ]
    }
   ],
   "source": [
    "## Create a class\n",
    "class Rectangle:\n",
    "    def __init__(self, length,  width):\n",
    "        self.__length = length ## private attributes\n",
    "        self.__width = width\n",
    "\n",
    "    @property\n",
    "    def length(self):\n",
    "        return self.__length\n",
    "    \n",
    "    @length.setter\n",
    "    def length(self, length):\n",
    "        self.__length= length\n",
    "\n",
    "    @property\n",
    "    def width(self):\n",
    "        return self.__width\n",
    "\n",
    "    @width.setter\n",
    "    def width(self, width):\n",
    "        self.__width = width\n",
    "\n",
    "## Create an object\n",
    "rect = Rectangle(5, 3)\n",
    "\n",
    "## Access the attributes\n",
    "print( f\"length:\", rect.length)  # Output: 5\n",
    "print( f\"width:\", rect.width)   # Output: 3\n",
    "\n",
    "rect.length=10 \n",
    "rect.width=6\n",
    "print( f\"New length:\", rect.length)\n",
    "print( f\"New width:\", rect.width)\n",
    "\n",
    "    "
   ]
  },
  {
   "cell_type": "markdown",
   "metadata": {},
   "source": [
    "Assignment 11: Abstract Base Class\n",
    "\n",
    "Create an abstract base class named Shape with an abstract method area. Create derived classes Circle and Square that implement the area method. Create objects of the derived classes and call the area method."
   ]
  },
  {
   "cell_type": "code",
   "execution_count": 13,
   "metadata": {},
   "outputs": [
    {
     "name": "stdout",
     "output_type": "stream",
     "text": [
      "Area of circle: 78.5\n",
      "Area of square: 16\n"
     ]
    }
   ],
   "source": [
    "from abc import ABC,abstractmethod\n",
    "class Shape(ABC):\n",
    "    @abstractmethod\n",
    "    def area(self):\n",
    "        pass\n",
    "\n",
    "## Derived class 1\n",
    "class Circle(Shape):\n",
    "    def __init__(self, radius):\n",
    "        self.radius = radius\n",
    "    def area(self):\n",
    "        return 3.14 * (self.radius ** 2)\n",
    "        \n",
    "## Derived class 2\n",
    "class Square(Shape):\n",
    "    def __init__(self, side):\n",
    "        self.side = side\n",
    "    def area(self):\n",
    "        return self.side ** 2\n",
    "        \n",
    "## Create objects\n",
    "circle = Circle(5)\n",
    "square = Square(4)\n",
    "\n",
    "## Call area method\n",
    "print( f\"Area of circle: {circle.area()}\")\n",
    "print( f\"Area of square: {square.area()}\") \n"
   ]
  },
  {
   "cell_type": "markdown",
   "metadata": {},
   "source": [
    "Assignment 12: Operator Overloading\n",
    "\n",
    "Create a class named Vector with attributes x and y. Overload the + operator to add two Vector objects. Create objects of the class and test the operator overloading."
   ]
  },
  {
   "cell_type": "code",
   "execution_count": 15,
   "metadata": {},
   "outputs": [
    {
     "name": "stdout",
     "output_type": "stream",
     "text": [
      "(4, 6)\n"
     ]
    }
   ],
   "source": [
    "## Create a class\n",
    "class Vector:\n",
    "    def __init__(self, x, y):\n",
    "        self.x = x\n",
    "        self.y = y\n",
    "\n",
    "    def __add__(self,others):\n",
    "        return Vector(self.x + others.x, self.y + others.y)\n",
    "    \n",
    "    def __str__(self):\n",
    "        return f\"({self.x}, {self.y})\"\n",
    "    \n",
    "    \n",
    "## Create objects\n",
    "v1 = Vector(1, 2)\n",
    "v2 = Vector(3, 4)\n",
    "\n",
    "## Test the operator\n",
    "print(v1 + v2)  # Output: Vector(4, 6)"
   ]
  },
  {
   "cell_type": "markdown",
   "metadata": {},
   "source": [
    "Assignment 13: Class with Custom Exception\n",
    "\n",
    "Create a custom exception named InsufficientBalanceError. In the BankAccount class, raise this exception when a withdrawal amount is greater than the balance. Handle the exception and print an appropriate message."
   ]
  },
  {
   "cell_type": "code",
   "execution_count": 16,
   "metadata": {},
   "outputs": [
    {
     "name": "stdout",
     "output_type": "stream",
     "text": [
      "Error: Insufficient balance\n"
     ]
    }
   ],
   "source": [
    "class InsufficientBalanceError(Exception):\n",
    "    pass\n",
    "\n",
    "## Create a class\n",
    "class BankAccount:\n",
    "    def __init__(self, account_number, balance=0):\n",
    "        self.__account_number = account_number\n",
    "        self.__balance = balance\n",
    "\n",
    "    def deposit(self, amount):\n",
    "        self.__balance += amount\n",
    "\n",
    "    def withdraw(self, amount):\n",
    "        if amount > self.__balance:\n",
    "            raise InsufficientBalanceError(\"Insufficient balance\")\n",
    "        else:\n",
    "            self.__balance -= amount\n",
    "\n",
    "    def check_balance(self):\n",
    "        return self.__balance\n",
    "    \n",
    "## Create an object\n",
    "account = BankAccount(\"1234567890\", 1000)\n",
    "account.deposit(200)\n",
    "try:\n",
    "    account.withdraw(2000)\n",
    "except InsufficientBalanceError as e:\n",
    "    print (\"Error:\",e) \n",
    "\n",
    "\n",
    "\n",
    "\n"
   ]
  },
  {
   "cell_type": "markdown",
   "metadata": {},
   "source": [
    "Assignment 14: Class with Context Manager\n",
    "\n",
    "Create a class named FileManager that implements the context manager protocol to open and close a file. Use this class to read the contents of a file."
   ]
  },
  {
   "cell_type": "code",
   "execution_count": 17,
   "metadata": {},
   "outputs": [
    {
     "name": "stdout",
     "output_type": "stream",
     "text": [
      "Hello World!\n"
     ]
    }
   ],
   "source": [
    "## Create a class\n",
    "class FileManager:\n",
    "    def __init__(self, file_name, mode):\n",
    "        self.file_name = file_name\n",
    "        self.mode = mode\n",
    "\n",
    "    def __enter__(self):\n",
    "        self.file = open(self.file_name, self.mode)\n",
    "        return self.file\n",
    "    \n",
    "    def __exit__(self, exc_type, exc_val, exc_tb):\n",
    "        if self.file:\n",
    "            self.file.close()\n",
    "        if exc_type:\n",
    "            print (\"An error occured:\", exc_val) \n",
    "        return True\n",
    "\n",
    "with FileManager(\"sample.txt\", \"r\") as file:\n",
    "    print(file.read())  # Output: Hello, World!"
   ]
  },
  {
   "cell_type": "markdown",
   "metadata": {},
   "source": [
    "Assignment 15: Chaining Methods\n",
    "\n",
    "Create a class named Calculator with methods to add, subtract, multiply, and divide. Each method should return the object itself to allow method chaining. Create an object and chain multiple method calls."
   ]
  },
  {
   "cell_type": "code",
   "execution_count": 19,
   "metadata": {},
   "outputs": [
    {
     "name": "stdout",
     "output_type": "stream",
     "text": [
      "12.5\n"
     ]
    }
   ],
   "source": [
    "## Create a class\n",
    "class Calculator:\n",
    "    def __init__(self, value=0):\n",
    "        self.value = value\n",
    "\n",
    "    def add(self, amount):\n",
    "        self.value += amount\n",
    "        return self\n",
    "    \n",
    "    def subtract(self, amount):\n",
    "        self.value -= amount\n",
    "        return self\n",
    "    \n",
    "    def multiply(self, amount):\n",
    "        self.value *= amount\n",
    "        return self\n",
    "    \n",
    "    def divide(self, amount):\n",
    "        if amount != 0:\n",
    "            self.value /= amount\n",
    "        else:\n",
    "             print (\"Cannot divide by zero\")\n",
    "             return self\n",
    "        \n",
    "## Create objects\n",
    "calc = Calculator()\n",
    "calc.add(7).subtract(2).multiply(5).divide(2)\n",
    "print(calc.value)\n",
    "        \n",
    "\n",
    "    \n",
    "        \n"
   ]
  }
 ],
 "metadata": {
  "kernelspec": {
   "display_name": "Python 3",
   "language": "python",
   "name": "python3"
  },
  "language_info": {
   "codemirror_mode": {
    "name": "ipython",
    "version": 3
   },
   "file_extension": ".py",
   "mimetype": "text/x-python",
   "name": "python",
   "nbconvert_exporter": "python",
   "pygments_lexer": "ipython3",
   "version": "3.12.0"
  }
 },
 "nbformat": 4,
 "nbformat_minor": 2
}
