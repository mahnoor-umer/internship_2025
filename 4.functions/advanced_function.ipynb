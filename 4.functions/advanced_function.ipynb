{
 "cells": [
  {
   "cell_type": "markdown",
   "metadata": {},
   "source": [
    "Assignment 1: Fibonacci Sequence with Memoization\n",
    "\n",
    "Define a recursive function to calculate the nth Fibonacci number using memoization. Test the function with different inputs."
   ]
  },
  {
   "cell_type": "code",
   "execution_count": 3,
   "metadata": {},
   "outputs": [
    {
     "name": "stdout",
     "output_type": "stream",
     "text": [
      "610\n",
      "144\n"
     ]
    }
   ],
   "source": [
    "## Define a recursive function to calculate the nth Fibonacci number using memoization\n",
    "def fibonacci(n, memo={}):\n",
    "    if n in memo:\n",
    "        return memo[n]\n",
    "    if n <= 0:\n",
    "        return 0\n",
    "    elif n == 1:\n",
    "        return 1\n",
    "    memo[n]= fibonacci(n-1,memo)+fibonacci(n-2,memo)\n",
    "    return memo[n]\n",
    "print(fibonacci(15))\n",
    "print(fibonacci(12))\n",
    "    \n",
    "    \n",
    "    \n"
   ]
  },
  {
   "cell_type": "markdown",
   "metadata": {},
   "source": [
    "Assignment 2: Function with Nested Default Arguments\n",
    "\n",
    "Define a function that takes two arguments, a and b, where b is a dictionary with a default value of an empty dictionary. The function should add a new key-value pair to the dictionary and return it. Test the function with different inputs."
   ]
  },
  {
   "cell_type": "code",
   "execution_count": 3,
   "metadata": {},
   "outputs": [
    {
     "name": "stdout",
     "output_type": "stream",
     "text": [
      "{2: 4}\n",
      "{5: 25}\n"
     ]
    }
   ],
   "source": [
    "## Define a function\n",
    "def add_to_dic(a,b=None):\n",
    "    if b is None:\n",
    "        b={}\n",
    "    b[a] = a**2\n",
    "    return b\n",
    "print(add_to_dic(2)) \n",
    "print(add_to_dic(5))\n",
    "    \n",
    "    "
   ]
  },
  {
   "cell_type": "markdown",
   "metadata": {},
   "source": [
    "Assignment 3: Function with Variable Keyword Arguments\n",
    "\n",
    "Define a function that takes a variable number of keyword arguments and returns a dictionary containing only those key-value pairs where the value is an integer. Test the function with different inputs."
   ]
  },
  {
   "cell_type": "code",
   "execution_count": 5,
   "metadata": {},
   "outputs": [
    {
     "name": "stdout",
     "output_type": "stream",
     "text": [
      "{'a': 1, 'b': 2, 'd': 3}\n",
      "{'y': 5, 'z': 7}\n"
     ]
    }
   ],
   "source": [
    "def filter_integers(**kwargs):\n",
    "    \"\"\" Filter integers from a dictionary of integers and strings.\"\"\"\n",
    "    return {key: value for key, value in kwargs.items() if isinstance(value, int)}\n",
    "## Testing the function with different inputs\n",
    "print(filter_integers(a=1, b=2, c='hello', d=3))\n",
    "print(filter_integers( x=\"True\", y=5, z=7, w=\"False\"))\n",
    "\n",
    "      \n",
    "            \n"
   ]
  },
  {
   "cell_type": "markdown",
   "metadata": {},
   "source": [
    "Assignment 4: Function with Callback\n",
    "\n",
    "Define a function that takes another function as a callback and a list of integers. The function should apply the callback to each integer in the list and return a new list with the results. Test with different callback functions."
   ]
  },
  {
   "cell_type": "code",
   "execution_count": 1,
   "metadata": {},
   "outputs": [
    {
     "name": "stdout",
     "output_type": "stream",
     "text": [
      "[1, 4, 9, 16]\n",
      "[3, 5, 7, 9]\n"
     ]
    }
   ],
   "source": [
    "def apply_callback(callback,lst):\n",
    "    \"\"\"Apply a callback function to each element in a list.\"\"\"\n",
    "    return [callback(x) for x in lst]\n",
    "## Test with different functions\n",
    "print(apply_callback(lambda x: x**2, [1, 2, 3, 4]))\n",
    "print(apply_callback(lambda x: x+1, [2, 4, 6, 8]))\n"
   ]
  },
  {
   "cell_type": "markdown",
   "metadata": {},
   "source": [
    "Assignment 5: Function that Returns a Function\n",
    "\n",
    "Define a function that returns another function. The returned function should take an integer and return its square. Test the returned function with different inputs."
   ]
  },
  {
   "cell_type": "code",
   "execution_count": 11,
   "metadata": {},
   "outputs": [
    {
     "name": "stdout",
     "output_type": "stream",
     "text": [
      "25\n",
      "100\n"
     ]
    }
   ],
   "source": [
    "## Define a function that returns another function\n",
    "def outer_function():\n",
    "    def inner_function(y):\n",
    "        return y**2\n",
    "    return inner_function\n",
    "## Test the function\n",
    "square = outer_function()\n",
    "print(square(5))  # Output: 25\n",
    "print(square(10))  # Output: 100\n",
    "\n",
    "\n"
   ]
  }
 ],
 "metadata": {
  "kernelspec": {
   "display_name": "Python 3",
   "language": "python",
   "name": "python3"
  },
  "language_info": {
   "codemirror_mode": {
    "name": "ipython",
    "version": 3
   },
   "file_extension": ".py",
   "mimetype": "text/x-python",
   "name": "python",
   "nbconvert_exporter": "python",
   "pygments_lexer": "ipython3",
   "version": "3.12.0"
  }
 },
 "nbformat": 4,
 "nbformat_minor": 2
}
