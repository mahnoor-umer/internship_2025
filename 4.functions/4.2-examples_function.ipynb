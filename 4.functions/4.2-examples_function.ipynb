{
 "cells": [
  {
   "cell_type": "markdown",
   "metadata": {},
   "source": [
    "1.Temperature Conversion"
   ]
  },
  {
   "cell_type": "code",
   "execution_count": 2,
   "metadata": {},
   "outputs": [
    {
     "name": "stdout",
     "output_type": "stream",
     "text": [
      "77.0\n",
      "25.0\n"
     ]
    }
   ],
   "source": [
    "## Define function of temp conversion\n",
    "def convert_temp(temp, unit):\n",
    "    \"\"\" This function converts temperature from Celsius to Fahrenheit or vice versa \"\"\"\n",
    "    if unit == 'C':\n",
    "        return (temp * 9/5) + 32\n",
    "    elif unit == 'F':\n",
    "        return (temp - 32) * 5/9\n",
    "    else:\n",
    "        return \"None\"\n",
    "    \n",
    "print(convert_temp(25, 'C'))\n",
    "print(convert_temp(77, 'F'))  \n",
    "    "
   ]
  },
  {
   "cell_type": "markdown",
   "metadata": {},
   "source": [
    "2.Password Strength Checker"
   ]
  },
  {
   "cell_type": "code",
   "execution_count": 4,
   "metadata": {},
   "outputs": [
    {
     "name": "stdout",
     "output_type": "stream",
     "text": [
      "False\n",
      "True\n"
     ]
    }
   ],
   "source": [
    "## Define a function to check password strength\n",
    "def check_password_strength(password):\n",
    "    \"\"\" This function checks the strength of a password.\"\"\"\n",
    "    if len(password) < 8:\n",
    "        return False\n",
    "    if not any(char.isdigit() for char in password):\n",
    "        return False\n",
    "    if not any(char.islower() for char in password):\n",
    "        return False\n",
    "    if not any(char.isupper() for char in password):\n",
    "        return False\n",
    "    if not any (char in \"!@#$%^&*()-+\" for char in password):\n",
    "        return False\n",
    "    return True\n",
    "# Calling a function\n",
    "print(check_password_strength(\"WeakPwd\"))  \n",
    "print(check_password_strength(\"Str0ngPwd!\"))\n",
    "\n",
    "\n",
    "\n",
    "    \n",
    "\n"
   ]
  },
  {
   "cell_type": "markdown",
   "metadata": {},
   "source": [
    "3.Calculate the total cost of items in a shopping cart"
   ]
  },
  {
   "cell_type": "code",
   "execution_count": 5,
   "metadata": {},
   "outputs": [
    {
     "name": "stdout",
     "output_type": "stream",
     "text": [
      "6.0\n"
     ]
    }
   ],
   "source": [
    "## Define a function to calculate the total cost of items in a shopping cart\n",
    "def calculate_total_cost(shopping_cart):\n",
    "    \"\"\" This function is used to calculate the total cost of items in a shopping cart.\"\"\"\n",
    "    total_cost = 0\n",
    "    for item in shopping_cart:\n",
    "        total_cost += item['price'] * item['quantity']\n",
    "        return total_cost\n",
    "# Create an example\n",
    "shopping_cart = [\n",
    "    {'name': 'Apple', 'price': 1.00, 'quantity': 6},\n",
    "     {'name': 'Banana', 'price': 0.50, 'quantity':4},\n",
    "      {'name': 'Orange', 'price': 1.50, 'quantity': 3}\n",
    "]\n",
    "# Call the function to calculate the total cost\n",
    "print(calculate_total_cost(shopping_cart))\n",
    "\n",
    "\n",
    "        "
   ]
  },
  {
   "cell_type": "markdown",
   "metadata": {},
   "source": [
    "4.Calculate area of the rectangle"
   ]
  },
  {
   "cell_type": "code",
   "execution_count": 3,
   "metadata": {},
   "outputs": [
    {
     "name": "stdout",
     "output_type": "stream",
     "text": [
      "15\n"
     ]
    }
   ],
   "source": [
    "## Define a function to calculate the area of a rectangle\n",
    "def calculate_area(length, width):\n",
    "    \"\"\" This function calculates the area of a rectangle with its length and width\"\"\"\n",
    "    return length * width\n",
    "print(calculate_area(5, 3))  # Output: 15"
   ]
  },
  {
   "cell_type": "markdown",
   "metadata": {},
   "source": [
    "5.Calculate area of square"
   ]
  },
  {
   "cell_type": "code",
   "execution_count": 4,
   "metadata": {},
   "outputs": [
    {
     "name": "stdout",
     "output_type": "stream",
     "text": [
      "100\n"
     ]
    }
   ],
   "source": [
    "## Define a function to calculate the area of a square\n",
    "def calculate_area(length):\n",
    "    \"\"\"This function calculates the area of a square with its length.\"\"\"\n",
    "    return length ** 2\n",
    "print(calculate_area(10))"
   ]
  },
  {
   "cell_type": "markdown",
   "metadata": {},
   "source": [
    "6.Check if a string is a palindrome"
   ]
  },
  {
   "cell_type": "code",
   "execution_count": 19,
   "metadata": {},
   "outputs": [
    {
     "name": "stdout",
     "output_type": "stream",
     "text": [
      "True\n",
      "False\n"
     ]
    }
   ],
   "source": [
    "## Define a function to check if a string is a palindrome\n",
    "def is_palindrome(s):\n",
    "    \"\"\"This function checks if a given string is a palindrome or not\"\"\"\n",
    "    s = s.lower ().replace(\" \",\"\")\n",
    "    return s == s[::-1]\n",
    "print(is_palindrome(\"A man a plan a canal Panama\"))\n",
    "print(is_palindrome(\"Hello\"))\n",
    "\n"
   ]
  },
  {
   "cell_type": "markdown",
   "metadata": {},
   "source": [
    "7.Check the validity of Email address"
   ]
  },
  {
   "cell_type": "code",
   "execution_count": 9,
   "metadata": {},
   "outputs": [
    {
     "name": "stdout",
     "output_type": "stream",
     "text": [
      "True\n",
      "False\n"
     ]
    }
   ],
   "source": [
    "## Define a function to check validity of email address\n",
    "def is_valid_email(email):\n",
    "    \"\"\"This function checks if the given email address is valid or not\"\"\"\n",
    "# Use regular expression to match the email pattern\n",
    "    import re\n",
    "    pattern = r\"^[a-zA-Z0-9_.+-]+@[a-zA-Z0\" \\\n",
    "    r\"-9-]+\\.[a-zA-Z0-9-.]+$\"\n",
    "    if re.match(pattern, email):\n",
    "        return True\n",
    "    else:\n",
    "        return False\n",
    "print(is_valid_email(\"test@example.com\"))\n",
    "print(is_valid_email(\"invalid_email\"))\n"
   ]
  },
  {
   "cell_type": "markdown",
   "metadata": {},
   "source": [
    "8.Calculate factorial of a number using recursion"
   ]
  },
  {
   "cell_type": "code",
   "execution_count": 1,
   "metadata": {},
   "outputs": [
    {
     "name": "stdout",
     "output_type": "stream",
     "text": [
      "24\n"
     ]
    }
   ],
   "source": [
    "## Define a function to calculate factorial of a number\n",
    "def factorial(n):\n",
    "    if n == 0:\n",
    "        return 1\n",
    "    else:\n",
    "        return n * factorial(n-1)\n",
    "print(factorial(4))    "
   ]
  },
  {
   "cell_type": "markdown",
   "metadata": {},
   "source": [
    "9.A function to read a file and count the frequency of each word"
   ]
  },
  {
   "cell_type": "code",
   "execution_count": 11,
   "metadata": {},
   "outputs": [],
   "source": [
    "## Define a function to read a file and count the frequency of each word\n",
    "def count_word_frequency(file_path):\n",
    "    word_count={}\n",
    "    with open(file_path, 'r') as file:\n",
    "        for line in file:\n",
    "            words = line.split()\n",
    "            for word in words:\n",
    "                word = word.lower().strip('.,!?;:\"/')\n",
    "                word_count[word]= word_count.get(word,0)+1\n",
    "                return word_count\n",
    "    ## Read this file\n",
    "    filepath='sample.txt'   \n",
    "    word_frequency=count_word_frequency(filepath)\n",
    "    print(word_frequency)\n",
    "                \n",
    "\n"
   ]
  }
 ],
 "metadata": {
  "kernelspec": {
   "display_name": "Python 3",
   "language": "python",
   "name": "python3"
  },
  "language_info": {
   "codemirror_mode": {
    "name": "ipython",
    "version": 3
   },
   "file_extension": ".py",
   "mimetype": "text/x-python",
   "name": "python",
   "nbconvert_exporter": "python",
   "pygments_lexer": "ipython3",
   "version": "3.12.0"
  }
 },
 "nbformat": 4,
 "nbformat_minor": 2
}
