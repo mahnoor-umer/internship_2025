{
 "cells": [
  {
   "cell_type": "code",
   "execution_count": 3,
   "metadata": {},
   "outputs": [
    {
     "name": "stdout",
     "output_type": "stream",
     "text": [
      "Mahnoor is an undergraduate microbiologist.\n",
      "She is currently doing an internship in Microinformatics.\n",
      "She is learning python and its basics.\n",
      "She wants to work in bioinformatics.\n"
     ]
    }
   ],
   "source": [
    "with open(\"example.txt\" , \"r\")as file:\n",
    "    content=file.read()\n",
    "    print(content)\n"
   ]
  },
  {
   "cell_type": "code",
   "execution_count": 3,
   "metadata": {},
   "outputs": [],
   "source": [
    "## Overwriting\n",
    "# Overwriting is a technique used to modify the contents of a file without deleting the original file.\n",
    "# It replaces the old contents with new data.\n",
    "with open(\"example.txt\", \"w\") as file:\n",
    "    file.write(\"Mahnoor Umer \\n\")\n",
    "    file.write(\"is a student of UAF \\n\")\n",
    "    file.write(\"doing bachelors in microbiology \\n\")\n",
    "\n",
    "\n",
    "\n"
   ]
  },
  {
   "cell_type": "code",
   "execution_count": 4,
   "metadata": {},
   "outputs": [],
   "source": [
    "## Append mode\n",
    "# Append mode is used to add new data to the end of existing file.\n",
    "with open(\"example.txt\", \"a\") as file:\n",
    "    file.write(\"Microinformatics is a field of study that combines computer science and biology.\\n\")"
   ]
  }
 ],
 "metadata": {
  "kernelspec": {
   "display_name": "Python 3",
   "language": "python",
   "name": "python3"
  },
  "language_info": {
   "codemirror_mode": {
    "name": "ipython",
    "version": 3
   },
   "file_extension": ".py",
   "mimetype": "text/x-python",
   "name": "python",
   "nbconvert_exporter": "python",
   "pygments_lexer": "ipython3",
   "version": "3.12.0"
  }
 },
 "nbformat": 4,
 "nbformat_minor": 2
}
