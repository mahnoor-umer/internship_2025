{
 "cells": [
  {
   "cell_type": "markdown",
   "metadata": {},
   "source": [
    "File Handling Assignment:"
   ]
  },
  {
   "cell_type": "markdown",
   "metadata": {},
   "source": [
    "Assignment 1: Reading a File\n",
    "\n",
    "Write a function that reads the contents of a file named sample.txt and prints each line."
   ]
  },
  {
   "cell_type": "code",
   "execution_count": 4,
   "metadata": {},
   "outputs": [
    {
     "name": "stdout",
     "output_type": "stream",
     "text": [
      "Hi!\n",
      "This is me Mahnoor , I am a student of Microbiology and currently doing an internship.\n",
      "I am very excited to be a part of this Microinformatics project.\n",
      "I am looking forward to learn and contribute to this project.\n",
      "\n"
     ]
    }
   ],
   "source": [
    "## Read a file\n",
    "\n",
    "with open('sample.txt','r')as file:\n",
    "    contents = file.read()\n",
    "    print(contents)\n"
   ]
  },
  {
   "cell_type": "markdown",
   "metadata": {},
   "source": [
    "Assignment 2: Writing to a File\n",
    "\n",
    "Write a function that writes a list of strings to a file named output.txt, with each string on a new line."
   ]
  },
  {
   "cell_type": "code",
   "execution_count": 6,
   "metadata": {},
   "outputs": [],
   "source": [
    "## Write a file\n",
    "\n",
    "lst_str=['Bacteria\\n' , 'Yeast\\n' , 'Molds\\n']\n",
    "with open('output.txt', 'w') as file:\n",
    "    for item in lst_str:\n",
    "        file.write(item)\n",
    "\n",
    "\n"
   ]
  },
  {
   "cell_type": "markdown",
   "metadata": {},
   "source": [
    "Assignment 3: Copying a File\n",
    "\n",
    "Write a function that copies the contents of a file named source.txt to a new file named destination.txt."
   ]
  },
  {
   "cell_type": "code",
   "execution_count": 10,
   "metadata": {},
   "outputs": [],
   "source": [
    "## Copy a file\n",
    "\n",
    "def copy_file(source,destination):\n",
    "    with open('source.txt', 'r') as src:\n",
    "        with open('destination.txt', 'w') as dest:\n",
    "            dest.write(src.read())\n",
    "        \n",
    "\n",
    "# test\n",
    "copy_file('source.txt','destination.txt')\n",
    "\n"
   ]
  },
  {
   "cell_type": "markdown",
   "metadata": {},
   "source": [
    "Assignment 4: Appending to a File\n",
    "\n",
    "Write a function that appends a given string to the end of a file named log.txt"
   ]
  },
  {
   "cell_type": "code",
   "execution_count": 9,
   "metadata": {},
   "outputs": [],
   "source": [
    "## Append to a file\n",
    "\n",
    "def append_to_file(text,filename):\n",
    "    with open('log.txt', \"a\") as file:\n",
    "        file.write('has many different applications\\n')\n",
    "        file.write('such as data analysis, machine learning, and more.\\n')\n",
    "    "
   ]
  },
  {
   "cell_type": "markdown",
   "metadata": {},
   "source": [
    "Assignment 5: Counting Words in a File\n",
    "\n",
    "Write a function that reads the contents of a file named document.txt and returns the number of words in the file."
   ]
  },
  {
   "cell_type": "code",
   "execution_count": 8,
   "metadata": {},
   "outputs": [
    {
     "name": "stdout",
     "output_type": "stream",
     "text": [
      "There are 10 words in the file.\n"
     ]
    }
   ],
   "source": [
    "## Counting words in file\n",
    "\n",
    "# Open the file in read mode\n",
    "with open('document.txt', 'r') as file:\n",
    "    # Read the content of the file\n",
    "    content = file.read()\n",
    "    # Split the content into words\n",
    "    words = content.split()\n",
    "    # Count the number of words\n",
    "    word_count = len(words)\n",
    "    print(f'There are {word_count} words in the file.')\n",
    "\n",
    "\n"
   ]
  },
  {
   "cell_type": "markdown",
   "metadata": {},
   "source": [
    "Assignment 6: Finding and Replacing Text\n",
    "\n",
    "Write a function that finds and replaces all occurrences of a given word in a file named data.txt with another word."
   ]
  },
  {
   "cell_type": "code",
   "execution_count": 19,
   "metadata": {},
   "outputs": [
    {
     "data": {
      "text/plain": [
       "'palindromic sequence is followed up by its reverse\\n'"
      ]
     },
     "execution_count": 19,
     "metadata": {},
     "output_type": "execute_result"
    }
   ],
   "source": [
    "## Finding and replacing text\n",
    "\n",
    "def find_and_replace_text(text, old_text, new_text):\n",
    "    with open('data.txt' , 'r')as file:\n",
    "        data = file.read()\n",
    "        new_data = data.replace(old_text, new_text)\n",
    "        with open('data.txt', 'w') as file:\n",
    "            file.write(new_data)\n",
    "            return new_data\n",
    "    \n",
    "# New data\n",
    "('palindromic sequence is followed up by its reverse\\n')\n",
    "\n",
    "\n"
   ]
  },
  {
   "cell_type": "markdown",
   "metadata": {},
   "source": [
    "Assignment 7: Reading a File in Reverse\n",
    "\n",
    "Write a function that reads the contents of a file named reverse.txt and prints each line in reverse order."
   ]
  },
  {
   "cell_type": "code",
   "execution_count": 21,
   "metadata": {},
   "outputs": [
    {
     "name": "stdout",
     "output_type": "stream",
     "text": [
      "remU roonhaM ma I\n"
     ]
    }
   ],
   "source": [
    "## Reading in reverse\n",
    "#The reading in reverse is a technique that involves reading a text in the opposite direction\n",
    "\n",
    "def reverse_reading(text):\n",
    "    return text[::-1]\n",
    "with open(\"reverse.txt\", \"r\") as file:\n",
    "    text = file.read()\n",
    "    print(reverse_reading(text))\n"
   ]
  },
  {
   "cell_type": "markdown",
   "metadata": {},
   "source": [
    "Assignment 8: Counting Lines, Words, and Characters\n",
    "\n",
    "Write a function that reads the contents of a file named stats.txt and returns the number of lines, words, and characters in the file"
   ]
  },
  {
   "cell_type": "code",
   "execution_count": 2,
   "metadata": {},
   "outputs": [],
   "source": [
    "## Count lines,words and characters \n",
    "\n",
    "def count_lines_words_chars(file_name):\n",
    " with open('stats.txt', 'r') as file:\n",
    "  content=file.readlines()\n",
    "\n",
    "  num_lines=len(contents)\n",
    "  num_words=sum(len(line.split()) for line in contents)\n",
    "  num_chars=sum(len(line) for line in contents)\n",
    "  return num_lines,num_words,num_chars\n",
    " \n",
    " print( f\"lines:{num_lines} , words:{num_words} , chars:{num_chars}\")\n",
    "\n",
    "    "
   ]
  },
  {
   "cell_type": "markdown",
   "metadata": {},
   "source": [
    "Assignment 9: Merging Multiple Files\n",
    "\n",
    "Write a function that merges the contents of multiple files into a single file named merged.txt."
   ]
  },
  {
   "cell_type": "code",
   "execution_count": 3,
   "metadata": {},
   "outputs": [],
   "source": [
    "## Merge multiple files\n",
    "\n",
    "def merge_files(file_paths, output_path)\n",
    "    # Open the output file in write mode\n",
    "    with open(output_path, 'w') as output_file:\n",
    "        # Iterate over each file path\n",
    "        for file_path in file_paths:\n",
    "            # Open the current file in read mode\n",
    "            with open(file_path, 'r') as current_file:\n",
    "                # Read the contents of the current file\n",
    "                contents = current_file.read()\n",
    "                # Write the contents to the output file\n",
    "                output_file.write(contents)\n",
    "                return output_path\n",
    "\n",
    "    "
   ]
  },
  {
   "cell_type": "markdown",
   "metadata": {},
   "source": [
    "Assignment 10: Binary File Operations\n",
    "\n",
    "Write a function that reads a binary file named image.bin and writes its contents to another binary file named copy_image.bin."
   ]
  },
  {
   "cell_type": "code",
   "execution_count": 10,
   "metadata": {},
   "outputs": [],
   "source": [
    "## Binary file\n",
    "\n",
    "with open('image.bin', 'rb') as file:\n",
    "    data = file.read()\n",
    "    with open('copy_image', 'w') as file:\n",
    "     file.write('Hello')"
   ]
  }
 ],
 "metadata": {
  "kernelspec": {
   "display_name": "Python 3",
   "language": "python",
   "name": "python3"
  },
  "language_info": {
   "codemirror_mode": {
    "name": "ipython",
    "version": 3
   },
   "file_extension": ".py",
   "mimetype": "text/x-python",
   "name": "python",
   "nbconvert_exporter": "python",
   "pygments_lexer": "ipython3",
   "version": "3.12.0"
  }
 },
 "nbformat": 4,
 "nbformat_minor": 2
}
