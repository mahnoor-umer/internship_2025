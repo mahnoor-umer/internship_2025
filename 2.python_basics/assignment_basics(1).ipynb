{
 "cells": [
  {
   "cell_type": "markdown",
   "metadata": {},
   "source": [
    "# Lesson 1.2: Python Basics\n",
    "## Topics Covered:\n",
    "- Syntax and Semantics\n",
    "- Variables and Data Types\n",
    "- Basic Operators (Arithmetic, Comparison, Logical)\n"
   ]
  },
  {
   "cell_type": "markdown",
   "metadata": {},
   "source": [
    "## 1. Syntax and Semantics\n",
    "\n",
    "**Question 1:** Write a Python program to print \"Hello, World!\"."
   ]
  },
  {
   "cell_type": "code",
   "execution_count": 1,
   "metadata": {},
   "outputs": [
    {
     "name": "stdout",
     "output_type": "stream",
     "text": [
      "Hello, World!\n"
     ]
    }
   ],
   "source": [
    "str=\"Hello, World!\"\n",
    "print(str)"
   ]
  },
  {
   "cell_type": "markdown",
   "metadata": {},
   "source": [
    "**Question 2:** Write a Python program that takes a user input and prints it."
   ]
  },
  {
   "cell_type": "code",
   "execution_count": 3,
   "metadata": {},
   "outputs": [
    {
     "name": "stdout",
     "output_type": "stream",
     "text": [
      "You entered: 17\n"
     ]
    }
   ],
   "source": [
    "user_input=int(input(\"Please enter something: \"))\n",
    "print(\"You entered:\", user_input)\n"
   ]
  },
  {
   "cell_type": "markdown",
   "metadata": {},
   "source": [
    "**Question 3:** Write a Python program to check if a number is positive, negative, or zero."
   ]
  },
  {
   "cell_type": "code",
   "execution_count": 7,
   "metadata": {},
   "outputs": [
    {
     "name": "stdout",
     "output_type": "stream",
     "text": [
      "7 is positive.\n"
     ]
    }
   ],
   "source": [
    "num=int(input(\"Enter a number: \"))\n",
    "if num>0:\n",
    "    print( f\"{num} is positive.\")\n",
    "elif num<0:\n",
    "    print( f\"{num} is negative.\")\n",
    "else:\n",
    "    print( f\"{num} is zero.\")\n",
    "        \n",
    "\n",
    "\n",
    "     "
   ]
  },
  {
   "cell_type": "markdown",
   "metadata": {},
   "source": [
    "**Question 4:** Write a Python program to find the largest of three numbers."
   ]
  },
  {
   "cell_type": "code",
   "execution_count": 8,
   "metadata": {},
   "outputs": [
    {
     "name": "stdout",
     "output_type": "stream",
     "text": [
      "The largest number is: 8.0\n"
     ]
    }
   ],
   "source": [
    "num1=float(input(\"Enter first number: \"))\n",
    "num2=float(input(\"Enter second number: \"))\n",
    "num3=float(input(\"Enter third number: \"))\n",
    "\n",
    "## largest of three numbers\n",
    "if num1>=num2 and num1>=num3:\n",
    "    largest = num1\n",
    "elif num2>=num1 and num2>=num3:\n",
    "    largest = num2\n",
    "else:\n",
    "    largest = num3\n",
    "    print( f\"The largest number is: {largest}\")\n"
   ]
  },
  {
   "cell_type": "markdown",
   "metadata": {},
   "source": [
    "**Question 5:** Write a Python program to calculate the factorial of a number."
   ]
  },
  {
   "cell_type": "code",
   "execution_count": 5,
   "metadata": {},
   "outputs": [
    {
     "name": "stdout",
     "output_type": "stream",
     "text": [
      "The factorial of 5 is 120\n"
     ]
    }
   ],
   "source": [
    "\n",
    "def factorial(n):\n",
    "    if n == 0:\n",
    "        return 1\n",
    "    else:\n",
    "        return n * factorial(n-1)\n",
    "    \n",
    "num=int(input(\"Enter a number: \")) \n",
    "print( f\"The factorial of {num} is {factorial(num)}\")   \n",
    "    \n",
    "    \n",
    "       \n",
    "    \n",
    "    \n",
    "   "
   ]
  },
  {
   "cell_type": "markdown",
   "metadata": {},
   "source": [
    "## 2. Variables and Data Types\n",
    "\n",
    "**Question 6:** Create variables of different data types: integer, float, string, and boolean. Print their values and types."
   ]
  },
  {
   "cell_type": "code",
   "execution_count": 1,
   "metadata": {},
   "outputs": [
    {
     "name": "stdout",
     "output_type": "stream",
     "text": [
      "Integer Value: {19} Type: <class 'int'>\n",
      "Float Value: {5.5} Type: <class 'float'>\n",
      "String Value: {'Mahnoor'} Type: <class 'str'>\n",
      "Boolean Value: {True} Type: <class 'bool'>\n"
     ]
    }
   ],
   "source": [
    "integer_var=19\n",
    "float_var=5.5\n",
    "string_var=\"Mahnoor\"\n",
    "boolean_var=True\n",
    "\n",
    "print( f\"Integer Value:\" , {integer_var}, \"Type:\", type(integer_var))\n",
    "print( f\"Float Value:\" , {float_var}, \"Type:\" , type(float_var)) \n",
    "print( f\"String Value:\" , {string_var}, \"Type:\", type(string_var))\n",
    "print( f\"Boolean Value:\" , {boolean_var}, \"Type:\", type(boolean_var))"
   ]
  },
  {
   "cell_type": "markdown",
   "metadata": {},
   "source": [
    "**Question 7:** Write a Python program to swap the values of two variables."
   ]
  },
  {
   "cell_type": "code",
   "execution_count": 3,
   "metadata": {},
   "outputs": [
    {
     "name": "stdout",
     "output_type": "stream",
     "text": [
      "Before swapping: a=5 , b=7 \n",
      "After swapping: a=7, b=5 \n"
     ]
    }
   ],
   "source": [
    "a=5\n",
    "b=7\n",
    "print( f\"Before swapping: a={a} , b={b} \")\n",
    "# swap\n",
    "a,b = b,a\n",
    "print( f\"After swapping: a={a}, b={b} \")"
   ]
  },
  {
   "cell_type": "markdown",
   "metadata": {},
   "source": [
    "**Question 8:** Write a Python program to convert Celsius to Fahrenheit."
   ]
  },
  {
   "cell_type": "code",
   "execution_count": 5,
   "metadata": {},
   "outputs": [
    {
     "name": "stdout",
     "output_type": "stream",
     "text": [
      "28.0C is equal to 82.4F\n"
     ]
    }
   ],
   "source": [
    "celsius=float(input(\"Enter temperature in celsius: \"))\n",
    "fahrenheit= celsius*9/5 + 32\n",
    "print( f\"{celsius}C is equal to {fahrenheit}F\")\n",
    "\n",
    "\n"
   ]
  },
  {
   "cell_type": "markdown",
   "metadata": {},
   "source": [
    "**Question 9:** Write a Python program to concatenate two strings."
   ]
  },
  {
   "cell_type": "code",
   "execution_count": 11,
   "metadata": {},
   "outputs": [
    {
     "name": "stdout",
     "output_type": "stream",
     "text": [
      "M\n",
      "a\n",
      "h\n",
      "n\n",
      "o\n",
      "o\n",
      "r\n",
      "U\n",
      "m\n",
      "e\n",
      "r\n"
     ]
    }
   ],
   "source": [
    "str1 =\"Mahnoor\"\n",
    "str2 =\"Umer\"\n",
    "\n",
    "# concatenate two strings\n",
    "concatenated_string=str1 + \" \" + str2\n",
    "for i in concatenated_string:\n",
    "    if i==\" \":\n",
    "        continue\n",
    "    print(i)\n",
    "\n",
    "    \n",
    "\n",
    "\n",
    "    \n",
    "\n",
    "\n",
    "\n"
   ]
  },
  {
   "cell_type": "markdown",
   "metadata": {},
   "source": [
    "**Question 10:** Write a Python program to check if a variable is of a specific data type."
   ]
  },
  {
   "cell_type": "code",
   "execution_count": 13,
   "metadata": {},
   "outputs": [
    {
     "name": "stdout",
     "output_type": "stream",
     "text": [
      "5.4 is a flaot\n"
     ]
    }
   ],
   "source": [
    "height=5.4\n",
    "if isinstance (height, float):\n",
    "    print( f\"{height} is a flaot\")\n",
    "else:\n",
    "    print( f\"{height} is not a float\")"
   ]
  },
  {
   "cell_type": "markdown",
   "metadata": {},
   "source": [
    "## 3. Basic Operators (Arithmetic, Comparison, Logical)\n",
    "\n",
    "**Question 11:** Write a Python program to perform arithmetic operations: addition, subtraction, multiplication, and division."
   ]
  },
  {
   "cell_type": "code",
   "execution_count": 14,
   "metadata": {},
   "outputs": [
    {
     "name": "stdout",
     "output_type": "stream",
     "text": [
      "Addition: 2 + 6 = 8\n",
      "Subtraction: 2 - 6 = -4\n",
      "Mutiplication: 2 * 6 = 12\n",
      "Division: 2 / 6 = 0.3333333333333333\n"
     ]
    }
   ],
   "source": [
    "a=2\n",
    "b=6\n",
    "\n",
    "print( f\"Addition: {a} + {b} = {a+b}\")\n",
    "print( f\"Subtraction: {a} - {b} = {a-b}\")\n",
    "print( f\"Mutiplication: {a} * {b} = {a*b}\")\n",
    "print( f\"Division: {a} / {b} = {a/b}\")"
   ]
  },
  {
   "cell_type": "markdown",
   "metadata": {},
   "source": [
    "**Question 12:** Write a Python program to demonstrate comparison operators: equal to, not equal to, greater than, less than."
   ]
  },
  {
   "cell_type": "code",
   "execution_count": 15,
   "metadata": {},
   "outputs": [
    {
     "name": "stdout",
     "output_type": "stream",
     "text": [
      "4 == 7 : False\n",
      "4 != 7 : True\n",
      "4 > 7 : False\n",
      "4 < 7 : True\n"
     ]
    }
   ],
   "source": [
    "x=4\n",
    "y=7\n",
    "\n",
    "print( f\"{x} == {y} : {x==y}\")\n",
    "print( f\"{x} != {y} : {x!=y}\")\n",
    "print( f\"{x} > {y} : {x>y}\")\n",
    "print( f\"{x} < {y} : {x<y}\")\n",
    "\n",
    "\n",
    "\n",
    "\n"
   ]
  },
  {
   "cell_type": "markdown",
   "metadata": {},
   "source": [
    "**Question 13:** Write a Python program to demonstrate logical operators: and, or, not."
   ]
  },
  {
   "cell_type": "code",
   "execution_count": 16,
   "metadata": {},
   "outputs": [
    {
     "name": "stdout",
     "output_type": "stream",
     "text": [
      "True and False: False\n",
      "True or False: True\n",
      "not True: False\n"
     ]
    }
   ],
   "source": [
    "a=True\n",
    "b=False\n",
    "\n",
    "print( f\"True and False: {a and b}\")\n",
    "print( f\"True or False: {a or b}\")\n",
    "print( f\"not True: {not a}\")\n"
   ]
  },
  {
   "cell_type": "markdown",
   "metadata": {},
   "source": [
    "**Question 14:** Write a Python program to calculate the square of a number."
   ]
  },
  {
   "cell_type": "code",
   "execution_count": 17,
   "metadata": {},
   "outputs": [
    {
     "name": "stdout",
     "output_type": "stream",
     "text": [
      "square: 49\n"
     ]
    }
   ],
   "source": [
    "num=int(input(\"Enter a number:\"))\n",
    "\n",
    "# square\n",
    "square=num**2\n",
    "print( f\"square: {square}\")"
   ]
  },
  {
   "cell_type": "markdown",
   "metadata": {},
   "source": [
    "**Question 15:** Write a Python program to check if a number is even or odd."
   ]
  },
  {
   "cell_type": "code",
   "execution_count": 20,
   "metadata": {},
   "outputs": [
    {
     "name": "stdout",
     "output_type": "stream",
     "text": [
      "7 is an odd number\n"
     ]
    }
   ],
   "source": [
    "num=int(input(\"Enter a number: \"))\n",
    "\n",
    "if num%2==0:\n",
    "    print( f\"{num} is an even number\")\n",
    "else:\n",
    "    print(f\"{num} is an odd number\")\n"
   ]
  },
  {
   "cell_type": "markdown",
   "metadata": {},
   "source": [
    "**Question 16:** Write a Python program to find the sum of the first n natural numbers."
   ]
  },
  {
   "cell_type": "code",
   "execution_count": 24,
   "metadata": {},
   "outputs": [
    {
     "name": "stdout",
     "output_type": "stream",
     "text": [
      "The sum of first 200 natural numbers is 20100\n"
     ]
    }
   ],
   "source": [
    "n=int(input(\"Enter a number: \"))\n",
    "# sum of first n natural numbers\n",
    "sum = n*(n+1)//2\n",
    "print( f\"The sum of first {n} natural numbers is {sum}\")\n",
    "\n"
   ]
  },
  {
   "cell_type": "markdown",
   "metadata": {},
   "source": [
    "**Question 17:** Write a Python program to check if a year is a leap year."
   ]
  },
  {
   "cell_type": "code",
   "execution_count": 25,
   "metadata": {},
   "outputs": [
    {
     "name": "stdout",
     "output_type": "stream",
     "text": [
      "2000 is a leap year.\n"
     ]
    }
   ],
   "source": [
    "year=int(input(\"Enter the year: \"))\n",
    "\n",
    "if year % 4 == 0:\n",
    "    if year % 100 == 0:\n",
    "        if year % 400 == 0:\n",
    "            print(f\"{year} is a leap year.\")\n",
    "    else:\n",
    "        print(f\"{year} is not a leap year.\")\n"
   ]
  },
  {
   "cell_type": "markdown",
   "metadata": {},
   "source": [
    "**Question 18:** Write a Python program to reverse a string."
   ]
  },
  {
   "cell_type": "code",
   "execution_count": 26,
   "metadata": {},
   "outputs": [
    {
     "name": "stdout",
     "output_type": "stream",
     "text": [
      "roonhaM\n"
     ]
    }
   ],
   "source": [
    "str = \"Mahnoor\"\n",
    "# reverse string\n",
    "reverse_str = str[::-1]\n",
    "print(reverse_str)"
   ]
  },
  {
   "cell_type": "markdown",
   "metadata": {},
   "source": [
    "**Question 19:** Write a Python program to check if a string is a palindrome."
   ]
  },
  {
   "cell_type": "code",
   "execution_count": 29,
   "metadata": {},
   "outputs": [
    {
     "name": "stdout",
     "output_type": "stream",
     "text": [
      "The string is not a palindrome\n"
     ]
    }
   ],
   "source": [
    "str=(input(\"Enter a string: \"))\n",
    "if str == str[::-1]:\n",
    "    print(\"The string is a palindrome\")\n",
    "else:\n",
    "    print(\"The string is not a palindrome\")\n",
    "\n"
   ]
  },
  {
   "cell_type": "markdown",
   "metadata": {},
   "source": [
    "**Question 20:** Write a Python program to sort a list of numbers in ascending order."
   ]
  },
  {
   "cell_type": "code",
   "execution_count": 31,
   "metadata": {},
   "outputs": [
    {
     "name": "stdout",
     "output_type": "stream",
     "text": [
      "Sorted list: [2, 4, 6, 9]\n"
     ]
    }
   ],
   "source": [
    "numbers=[int(x) for x in input(\"Enter a list of numbers separated by space: \").split()]\n",
    "numbers.sort()\n",
    "print( f\"Sorted list: {numbers}\")\n"
   ]
  }
 ],
 "metadata": {
  "kernelspec": {
   "display_name": "Python 3",
   "language": "python",
   "name": "python3"
  },
  "language_info": {
   "codemirror_mode": {
    "name": "ipython",
    "version": 3
   },
   "file_extension": ".py",
   "mimetype": "text/x-python",
   "name": "python",
   "nbconvert_exporter": "python",
   "pygments_lexer": "ipython3",
   "version": "3.12.0"
  }
 },
 "nbformat": 4,
 "nbformat_minor": 4
}
