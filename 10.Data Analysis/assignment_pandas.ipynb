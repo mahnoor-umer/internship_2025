{
 "cells": [
  {
   "cell_type": "markdown",
   "metadata": {},
   "source": [
    "### Pandas Assignment:"
   ]
  },
  {
   "cell_type": "markdown",
   "metadata": {},
   "source": [
    "Assignment 1: DataFrame Creation and Indexing\n",
    "\n",
    "1.Create a Pandas DataFrame with 4 columns and 6 rows filled with random integers. Set the index to be the first column.\n",
    "\n",
    "2.Create a Pandas DataFrame with columns 'A', 'B', 'C' and index 'X', 'Y', 'Z'. Fill the DataFrame with random integers and access the element at row 'Y' and column 'B'."
   ]
  },
  {
   "cell_type": "code",
   "execution_count": 6,
   "metadata": {},
   "outputs": [
    {
     "name": "stdout",
     "output_type": "stream",
     "text": [
      "Requirement already satisfied: pandas in c:\\users\\administrator\\documents\\git_practice\\venv\\lib\\site-packages (2.3.1)\n",
      "Requirement already satisfied: numpy>=1.26.0 in c:\\users\\administrator\\documents\\git_practice\\venv\\lib\\site-packages (from pandas) (2.3.1)\n",
      "Requirement already satisfied: python-dateutil>=2.8.2 in c:\\users\\administrator\\documents\\git_practice\\venv\\lib\\site-packages (from pandas) (2.9.0.post0)\n",
      "Requirement already satisfied: pytz>=2020.1 in c:\\users\\administrator\\documents\\git_practice\\venv\\lib\\site-packages (from pandas) (2025.2)\n",
      "Requirement already satisfied: tzdata>=2022.7 in c:\\users\\administrator\\documents\\git_practice\\venv\\lib\\site-packages (from pandas) (2025.2)\n",
      "Requirement already satisfied: six>=1.5 in c:\\users\\administrator\\documents\\git_practice\\venv\\lib\\site-packages (from python-dateutil>=2.8.2->pandas) (1.17.0)\n"
     ]
    }
   ],
   "source": [
    "!pip install pandas"
   ]
  },
  {
   "cell_type": "code",
   "execution_count": 7,
   "metadata": {},
   "outputs": [
    {
     "name": "stdout",
     "output_type": "stream",
     "text": [
      "Requirement already satisfied: numpy in c:\\users\\administrator\\documents\\git_practice\\venv\\lib\\site-packages (2.3.1)\n"
     ]
    }
   ],
   "source": [
    "!pip install numpy"
   ]
  },
  {
   "cell_type": "code",
   "execution_count": 8,
   "metadata": {},
   "outputs": [
    {
     "name": "stdout",
     "output_type": "stream",
     "text": [
      "Dataframe with index as first column:\n",
      "    Eng  Urdu  Maths\n",
      "ID                  \n",
      "59   68    48     39\n",
      "2    90    36     89\n",
      "6    76    71     48\n",
      "45    6    43     90\n",
      "74   47    35     52\n",
      "65   33    36     18\n"
     ]
    }
   ],
   "source": [
    "import pandas as pd\n",
    "import numpy as np\n",
    "## Task 1\n",
    "## Create a pandas dataframe with 4 columns and 6 rows filled with random integers\n",
    "df1=pd.DataFrame(np.random.randint(1,100, size= (6,4)), columns=[ 'ID', 'Eng', 'Urdu', 'Maths'])\n",
    "\n",
    "## Set the index to be first column\n",
    "df1.set_index('ID', inplace=True)\n",
    "\n",
    "## Display the dataframe\n",
    "print(\"Dataframe with index as first column:\")\n",
    "print(df1 )"
   ]
  },
  {
   "cell_type": "code",
   "execution_count": 9,
   "metadata": {},
   "outputs": [
    {
     "name": "stdout",
     "output_type": "stream",
     "text": [
      "\n",
      " Labeled dataframe:\n",
      "    A   B   C\n",
      "X  44  14  10\n",
      "Y  22  95  93\n",
      "Z  39  23  89\n",
      "\n",
      "Element at row 'Y' and column 'B': 95\n"
     ]
    }
   ],
   "source": [
    "## Task 2\n",
    "## Create a Pandas DataFrame with columns 'A', 'B', 'C' and index 'X', 'Y', 'Z'\n",
    "df2=pd.DataFrame(np.random.randint(1,100,size= (3,3)), columns= ['A','B','C'],index=['X','Y','Z'])\n",
    "\n",
    "## Display the dataframe\n",
    "print(\"\\n Labeled dataframe:\")\n",
    "print(df2)\n",
    "\n",
    "## Access the elements at column 'B' and row 'Y'\n",
    "value= df2.loc['Y','B']\n",
    "print(\"\\nElement at row 'Y' and column 'B':\", value)"
   ]
  },
  {
   "cell_type": "markdown",
   "metadata": {},
   "source": [
    "Assignment 2: DataFrame Operations\n",
    "\n",
    "1.Create a Pandas DataFrame with 3 columns and 5 rows filled with random integers. Add a new column that is the product of the first two columns.\n",
    "\n",
    "2.Create a Pandas DataFrame with 3 columns and 4 rows filled with random integers. Compute the row-wise and column-wise sum."
   ]
  },
  {
   "cell_type": "code",
   "execution_count": 10,
   "metadata": {},
   "outputs": [
    {
     "name": "stdout",
     "output_type": "stream",
     "text": [
      "DataFrame with Product column (A * B):\n",
      "    A   B   C  Product\n",
      "0  26  15  24      390\n",
      "1  13  11  20      143\n",
      "2   1  13   4       13\n",
      "3  26   6   9      156\n",
      "4  10  28  20      280\n"
     ]
    }
   ],
   "source": [
    "## Task 1\n",
    "## Create a Pandas DataFrame with 3 columns and 5 rows filled with random integers\n",
    "df1=pd.DataFrame(np.random.randint(1,30,size=(5,3)), columns= ['A','B','C'])\n",
    "\n",
    "## Add a new column 'Product' = A * B\n",
    "df1['Product']= df1['A'] * df1['B']\n",
    "\n",
    "## Display the dataframe\n",
    "print(\"DataFrame with Product column (A * B):\")\n",
    "print(df1)"
   ]
  },
  {
   "cell_type": "code",
   "execution_count": 11,
   "metadata": {},
   "outputs": [
    {
     "name": "stdout",
     "output_type": "stream",
     "text": [
      "\n",
      "Original dataframe:\n",
      "    A  B   C\n",
      "0  14  3   3\n",
      "1   1  6   6\n",
      "2   3  1  20\n",
      "3   9  3  25\n"
     ]
    }
   ],
   "source": [
    "## Task 2\n",
    "## Create a Pandas DataFrame with 3 columns and 4 rows filled with random integers\n",
    "df2=pd.DataFrame(np.random.randint(1,30,size=(4,3)), columns= ['A','B','C'])\n",
    "\n",
    "## Compute row-wise sum\n",
    "row_sum=df2.sum(axis=1)\n",
    "\n",
    "## Compute column_wise sum\n",
    "col_sum=df2.sum(axis=0)\n",
    "\n",
    "## Display the dataframe\n",
    "print(\"\\nOriginal dataframe:\")\n",
    "print(df2)"
   ]
  },
  {
   "cell_type": "markdown",
   "metadata": {},
   "source": [
    "Assignment 3: Data Cleaning\n",
    "\n",
    "1.Create a Pandas DataFrame with 3 columns and 5 rows filled with random integers. Introduce some NaN values. Fill the NaN values with the mean of the respective columns.\n",
    "\n",
    "2.Create a Pandas DataFrame with 4 columns and 6 rows filled with random integers. Introduce some NaN values. Drop the rows with any NaN values."
   ]
  },
  {
   "cell_type": "code",
   "execution_count": 12,
   "metadata": {},
   "outputs": [
    {
     "name": "stdout",
     "output_type": "stream",
     "text": [
      "Original DataFrame with NaN values:\n",
      "      X   Y     Z\n",
      "0   6.0  12  13.0\n",
      "1   NaN  10  12.0\n",
      "2   6.0  16   1.0\n",
      "3  17.0   2   NaN\n",
      "4   8.0  14   7.0\n",
      "\n",
      "DataFrame after filling NaN with column mean:\n",
      "       X   Y      Z\n",
      "0   6.00  12  13.00\n",
      "1   9.25  10  12.00\n",
      "2   6.00  16   1.00\n",
      "3  17.00   2   8.25\n",
      "4   8.00  14   7.00\n"
     ]
    }
   ],
   "source": [
    "## Task 1\n",
    "## Set random seed for reproducibility\n",
    "np.random.seed(1)\n",
    "\n",
    "## Create a Pandas DataFrame with 3 columns and 5 rows filled with random integers\n",
    "df1=pd.DataFrame(np.random.randint(1,20,size=(5,3)), columns=['X','Y','Z'])\n",
    "\n",
    "## Introduce NaN values manually\n",
    "df1.iloc[1, 0] = np.nan\n",
    "df1.iloc[3, 2] = np.nan\n",
    "print(\"Original DataFrame with NaN values:\")\n",
    "print(df1)\n",
    "\n",
    "## Fill NaN with column mean\n",
    "df1_filled = df1.fillna(df1.mean(numeric_only=True))\n",
    "\n",
    "## Dispaly the dataframe\n",
    "print(\"\\nDataFrame after filling NaN with column mean:\")\n",
    "print(df1_filled)"
   ]
  },
  {
   "cell_type": "code",
   "execution_count": 13,
   "metadata": {},
   "outputs": [
    {
     "name": "stdout",
     "output_type": "stream",
     "text": [
      "Original DataFrame with NaN values:\n",
      "    W     X   Y     Z\n",
      "0  19   6.0  19  12.0\n",
      "1  11  15.0  19   5.0\n",
      "2  10   NaN   1  14.0\n",
      "3  10  10.0   8   2.0\n",
      "4   1  18.0   9   NaN\n",
      "5  16  11.0   9   8.0\n",
      "\n",
      "Dataframe after dropping rows with NaN values:\n",
      "    W     X   Y     Z\n",
      "0  19   6.0  19  12.0\n",
      "1  11  15.0  19   5.0\n",
      "3  10  10.0   8   2.0\n",
      "5  16  11.0   9   8.0\n"
     ]
    }
   ],
   "source": [
    "## Task 2\n",
    "## Create a pandas dataframe with 4 columns and 6 rows filled with random integers\n",
    "df2=pd.DataFrame(np.random.randint(1,20,size=(6,4)), columns=['W','X','Y','Z'])\n",
    "\n",
    "## Introduce NaN values manually\n",
    "df2.iloc[2, 1] = np.nan\n",
    "df2.iloc[4, 3] = np.nan\n",
    "print(\"Original DataFrame with NaN values:\")\n",
    "print(df2)\n",
    "\n",
    "## Drop the rows with any NaN values\n",
    "df2_cleaned=df2.dropna()\n",
    "\n",
    "## Dispaly the dataframe\n",
    "print(\"\\nDataframe after dropping rows with NaN values:\")\n",
    "print(df2_cleaned)"
   ]
  },
  {
   "cell_type": "markdown",
   "metadata": {},
   "source": [
    "Assignment 4: Data Aggregation\n",
    "\n",
    "1.Create a Pandas DataFrame with 2 columns: 'Category' and 'Value'. Fill the 'Category' column with random categories ('A', 'B', 'C') and the 'Value' column with random integers. Group the DataFrame by 'Category' and compute the sum and mean of 'Value' for each category.\n",
    "\n",
    "2.Create a Pandas DataFrame with 3 columns: 'Product', 'Category', and 'Sales'. Fill the DataFrame with random data. Group the DataFrame by 'Category' and compute the total sales for each category."
   ]
  },
  {
   "cell_type": "code",
   "execution_count": 14,
   "metadata": {},
   "outputs": [
    {
     "name": "stdout",
     "output_type": "stream",
     "text": [
      "Original dataframe:\n",
      "  Category  Value\n",
      "0        A     13\n",
      "1        B     59\n",
      "2        A     66\n",
      "3        B     40\n",
      "4        B     88\n",
      "5        C     47\n",
      "6        A     89\n",
      "7        C     82\n",
      "8        A     38\n",
      "9        A     26\n",
      "\n",
      "Grouped by 'Category' - Sum and Mean of 'Value':\n",
      "          sum       mean\n",
      "Category                \n",
      "A         232  46.400000\n",
      "B         187  62.333333\n",
      "C         129  64.500000\n"
     ]
    }
   ],
   "source": [
    "## Task 1\n",
    "## Create a pandas dataframe with two columns\n",
    "np.random.seed(0)  ## reproducibility\n",
    "df1=pd.DataFrame({\n",
    "    'Category':np.random.choice(['A','B','C'], size=10),\n",
    "    'Value'   :np.random.randint(1,100, size=10)\n",
    "})\n",
    "print(\"Original dataframe:\")\n",
    "print(df1)\n",
    "\n",
    "## Group by 'Category' and calculate sum and mean\n",
    "grouped_1=df1.groupby('Category')['Value'].agg(['sum' , 'mean'])\n",
    "print(\"\\nGrouped by 'Category' - Sum and Mean of 'Value':\")\n",
    "print(grouped_1)"
   ]
  },
  {
   "cell_type": "code",
   "execution_count": 15,
   "metadata": {},
   "outputs": [
    {
     "name": "stdout",
     "output_type": "stream",
     "text": [
      "\n",
      "Product Sales DataFrame:\n",
      "  Product Category  Sales\n",
      "0      P1        B     18\n",
      "1      P2        A     15\n",
      "2      P3        B      8\n",
      "3      P4        A      1\n",
      "4      P5        A      2\n",
      "5      P6        B     10\n",
      "6      P7        C      1\n",
      "7      P8        A     11\n",
      "8      P9        C      4\n",
      "9     P10        A     12\n",
      "\n",
      "Grouped by 'Category' - Total sales:\n",
      "<bound method Series.reset_index of Category\n",
      "A    41\n",
      "B    36\n",
      "C     5\n",
      "Name: Sales, dtype: int32>\n"
     ]
    }
   ],
   "source": [
    "## Task 2\n",
    "## Create a pandas dataframe with three columns\n",
    "df2=pd.DataFrame({\n",
    "    'Product' :[f'P{i}' for i in range(1, 11)],\n",
    "    'Category':np.random.choice(['A','B','C'], size=10),\n",
    "    'Sales'   :np.random.randint(1,20, size=10)\n",
    "})\n",
    "print(\"\\nProduct Sales DataFrame:\")\n",
    "print(df2)\n",
    "\n",
    "## Group by 'Category' and compute total sales\n",
    "grouped_2=df2.groupby('Category')['Sales'].sum().reset_index\n",
    "print(\"\\nGrouped by 'Category' - Total sales:\")\n",
    "print(grouped_2)\n"
   ]
  },
  {
   "cell_type": "markdown",
   "metadata": {},
   "source": [
    "Assignment 5: Merging DataFrames\n",
    "\n",
    "1.Create two Pandas DataFrames with a common column. Merge the DataFrames using the common column.\n",
    "\n",
    "2.Create two Pandas DataFrames with different columns. Concatenate the DataFrames along the rows and along the columns."
   ]
  },
  {
   "cell_type": "code",
   "execution_count": 16,
   "metadata": {},
   "outputs": [
    {
     "name": "stdout",
     "output_type": "stream",
     "text": [
      "Merged DataFrame:\n",
      "   ID  Name  Age\n",
      "0   1  Wali   20\n",
      "1   2  Abul   22\n",
      "2   3  Maya   19\n"
     ]
    }
   ],
   "source": [
    "import pandas as pd\n",
    "## Task 1\n",
    "## Create two Pandas DataFrames with a common column\n",
    "df1=pd.DataFrame({\n",
    "    'ID'  : [1, 2, 3],\n",
    "    'Name': ['Wali', 'Abul', 'Maya']\n",
    "})\n",
    "df2=pd.DataFrame({\n",
    "    'ID'  : [1, 2, 3],\n",
    "    'Age': [20, 22, 19]\n",
    "})\n",
    "\n",
    "## Merge the two dataframes\n",
    "merged_df = pd.merge(df1, df2, on='ID')\n",
    "print(\"Merged DataFrame:\")\n",
    "print(merged_df)"
   ]
  },
  {
   "cell_type": "code",
   "execution_count": 17,
   "metadata": {},
   "outputs": [
    {
     "name": "stdout",
     "output_type": "stream",
     "text": [
      "\n",
      "Concatenated along rows:\n",
      "     A    B    C    D\n",
      "0   A0   B0  NaN  NaN\n",
      "1   A1   B1  NaN  NaN\n",
      "2   A2   B2  NaN  NaN\n",
      "0  NaN  NaN   C0   D0\n",
      "1  NaN  NaN   C1   D1\n",
      "2  NaN  NaN   C2   D2\n",
      "\n",
      "Concatenated along columns:\n",
      "    A   B   C   D\n",
      "0  A0  B0  C0  D0\n",
      "1  A1  B1  C1  D1\n",
      "2  A2  B2  C2  D2\n"
     ]
    }
   ],
   "source": [
    "## Task 2\n",
    "## Create two Pandas DataFrames with different column\n",
    "df3=pd.DataFrame({\n",
    "    'A' : ['A0', 'A1', 'A2'],\n",
    "    'B' : ['B0', 'B1', 'B2']\n",
    "})\n",
    "df4 = pd.DataFrame({\n",
    "    'C': ['C0', 'C1', 'C2'],\n",
    "    'D': ['D0', 'D1', 'D2']\n",
    "})\n",
    "\n",
    "## Concatenate along rows (axis=0)\n",
    "con_rows = pd.concat([df3, df4], axis=0)\n",
    "\n",
    "print(\"\\nConcatenated along rows:\")\n",
    "print(con_rows)\n",
    "\n",
    "## Concatenate along columns (axis=1)\n",
    "con_cols = pd.concat([df3, df4], axis=1)\n",
    "\n",
    "print(\"\\nConcatenated along columns:\")\n",
    "print(con_cols)"
   ]
  },
  {
   "cell_type": "markdown",
   "metadata": {},
   "source": [
    "Assignment 6: Time Series Analysis\n",
    "\n",
    "1.Create a Pandas DataFrame with a datetime index and one column filled with random integers. Resample the DataFrame to compute the monthly mean of the values.\n",
    "\n",
    "2.Create a Pandas DataFrame with a datetime index ranging from '2021-01-01' to '2021-12-31' and one column filled with random integers. Compute the rolling mean with a window of 7 days."
   ]
  },
  {
   "cell_type": "code",
   "execution_count": 18,
   "metadata": {},
   "outputs": [
    {
     "name": "stdout",
     "output_type": "stream",
     "text": [
      "Original DataFrame (first 5 rows):\n",
      "            Value\n",
      "2024-01-01     56\n",
      "2024-01-02     29\n",
      "2024-01-03     35\n",
      "2024-01-04      1\n",
      "2024-01-05      1\n",
      "\n",
      "Monthly mean:\n",
      "                Value\n",
      "2024-01-31  39.354839\n",
      "2024-02-29  50.068966\n",
      "2024-03-31  49.000000\n",
      "2024-04-30  46.033333\n",
      "2024-05-31  51.290323\n",
      "2024-06-30  50.700000\n",
      "2024-07-31  41.258065\n",
      "2024-08-31  47.741935\n",
      "2024-09-30  54.066667\n",
      "2024-10-31  59.516129\n",
      "2024-11-30  44.300000\n",
      "2024-12-31  54.096774\n"
     ]
    },
    {
     "name": "stderr",
     "output_type": "stream",
     "text": [
      "C:\\Users\\Administrator\\AppData\\Local\\Temp\\ipykernel_12416\\1002938579.py:11: FutureWarning: 'M' is deprecated and will be removed in a future version, please use 'ME' instead.\n",
      "  monthly_mean = df1.resample('M').mean()\n"
     ]
    }
   ],
   "source": [
    "## Task 1\n",
    "## Create a date range (e.g daily for one year)\n",
    "date_rng = pd.date_range(start='2024-01-01', end='2024-12-31', freq='D')\n",
    "\n",
    "## Create DataFrame with random integers\n",
    "df1 = pd.DataFrame({\n",
    "    'Value': np.random.randint(1, 100, size=len(date_rng))\n",
    "}, index=date_rng)\n",
    "\n",
    "## Resample to compute the monthly mean\n",
    "monthly_mean = df1.resample('M').mean()\n",
    "\n",
    "## Display the results\n",
    "print(\"Original DataFrame (first 5 rows):\")\n",
    "print(df1.head())\n",
    "print(\"\\nMonthly mean:\")\n",
    "print(monthly_mean)"
   ]
  },
  {
   "cell_type": "markdown",
   "metadata": {},
   "source": [
    "Assignment 7: MultiIndex DataFrame\n",
    "\n",
    "1.Create a Pandas DataFrame with a MultiIndex (hierarchical index). Perform some basic indexing and slicing operations on the MultiIndex DataFrame.\n",
    "\n",
    "2.Create a Pandas DataFrame with MultiIndex consisting of 'Category' and 'SubCategory'. Fill the DataFrame with random data and compute the sum of values for each 'Category' and 'SubCategory'."
   ]
  },
  {
   "cell_type": "code",
   "execution_count": 19,
   "metadata": {},
   "outputs": [
    {
     "name": "stdout",
     "output_type": "stream",
     "text": [
      "Original MultiIndex DataFrame:\n",
      "               X  Y  Z\n",
      "Level1 Level2         \n",
      "A      one     7  8  9\n",
      "       two     9  8  1\n",
      "       three   9  7  9\n",
      "B      one     9  4  7\n",
      "       two     2  8  5\n",
      "C      one     3  1  9\n",
      "       three   3  8  9\n",
      "\n",
      "Data for Level1 = 'A':\n",
      "        X  Y  Z\n",
      "Level2         \n",
      "one     7  8  9\n",
      "two     9  8  1\n",
      "three   9  7  9\n",
      "\n",
      "Data for Level1 = 'B' and Level2 = 'two':\n",
      "X    2\n",
      "Y    8\n",
      "Z    5\n",
      "Name: (B, two), dtype: int32\n",
      "\n",
      "Data for Level1 = 'A' and Level2 in ['one', 'three']:\n",
      "               X  Y  Z\n",
      "Level1 Level2         \n",
      "A      one     7  8  9\n",
      "       three   9  7  9\n"
     ]
    }
   ],
   "source": [
    "## Task 1\n",
    "## Define arrays for MultiIndex\n",
    "arrays = [\n",
    "    ['A', 'A', 'A', 'B', 'B', 'C', 'C'],\n",
    "    ['one', 'two', 'three', 'one', 'two', 'one', 'three']\n",
    "]\n",
    "## Create MultiIndex\n",
    "index = pd.MultiIndex.from_arrays(arrays, names=['Level1', 'Level2'])\n",
    "\n",
    "## Create DataFrame with random integers\n",
    "df1 = pd.DataFrame(np.random.randint(1, 10, size=(7, 3)), index=index, columns=['X', 'Y', 'Z'])\n",
    "\n",
    "print(\"Original MultiIndex DataFrame:\")\n",
    "print(df1)\n",
    "\n",
    "## Indexing: select data under 'A'\n",
    "print(\"\\nData for Level1 = 'A':\")\n",
    "print(df1.loc['A'])\n",
    "\n",
    "## Indexing: select data under 'B', sub-level 'two'\n",
    "print(\"\\nData for Level1 = 'B' and Level2 = 'two':\")\n",
    "print(df1.loc[('B', 'two')])\n",
    "\n",
    "## Slicing: get data for Level1 = 'A' and Level2 = 'one' and 'three'\n",
    "idx= pd.IndexSlice\n",
    "print(\"\\nData for Level1 = 'A' and Level2 in ['one', 'three']:\")\n",
    "print(df1.loc[idx['A', ['one', 'three']], :])"
   ]
  },
  {
   "cell_type": "code",
   "execution_count": 23,
   "metadata": {},
   "outputs": [
    {
     "name": "stdout",
     "output_type": "stream",
     "text": [
      "\n",
      "MultiIndex DataFrame with Category and SubCategory:\n",
      "                         Sales_Q1  Sales_Q2\n",
      "Category    Subcategory                    \n",
      "Electronics Fan                54        86\n",
      "            TV                 94        99\n",
      "Cosmetics   Perfume            73        80\n",
      "            Lipstick           75        70\n",
      "\n",
      "Sum of Sales for each Category:\n",
      "             Sales_Q1  Sales_Q2\n",
      "Category                       \n",
      "Cosmetics         148       150\n",
      "Electronics       148       185\n",
      "\n",
      "Sum of Sales for each SubCategory:\n",
      "             Sales_Q1  Sales_Q2\n",
      "Subcategory                    \n",
      "Fan                54        86\n",
      "Lipstick           75        70\n",
      "Perfume            73        80\n",
      "TV                 94        99\n"
     ]
    }
   ],
   "source": [
    "## Task 2\n",
    "## Create tuples for MultiIndex\n",
    "tuples = [\n",
    "    ('Electronics' , 'Fan'),\n",
    "    ('Electronics' , 'TV'),\n",
    "    ('Cosmetics'   , 'Perfume'),\n",
    "    ('Cosmetics'   ,  'Lipstick')\n",
    "]\n",
    "\n",
    "## Create MultiIndex\n",
    "index = pd.MultiIndex.from_tuples(tuples, names=['Category', 'Subcategory'])\n",
    "\n",
    "## Create DataFrame with random integers\n",
    "df2 = pd.DataFrame(np.random.randint(50, 100, size=(4, 2)), index=index, columns=['Sales_Q1', 'Sales_Q2'])\n",
    "\n",
    "print(\"\\nMultiIndex DataFrame with Category and SubCategory:\")\n",
    "print(df2)\n",
    "\n",
    "## Compute the sum of values for each 'Category' and 'SubCategory'\n",
    "df2_category = df2.groupby(level=['Category']).sum()\n",
    "df2_subcategory = df2.groupby(level=['Subcategory']).sum()\n",
    "\n",
    "## Print the results\n",
    "print( \"\\nSum of Sales for each Category:\")\n",
    "print(df2_category)\n",
    "print(\"\\nSum of Sales for each SubCategory:\")\n",
    "print(df2_subcategory)"
   ]
  }
 ],
 "metadata": {
  "kernelspec": {
   "display_name": "Python 3",
   "language": "python",
   "name": "python3"
  },
  "language_info": {
   "codemirror_mode": {
    "name": "ipython",
    "version": 3
   },
   "file_extension": ".py",
   "mimetype": "text/x-python",
   "name": "python",
   "nbconvert_exporter": "python",
   "pygments_lexer": "ipython3",
   "version": "3.12.0"
  }
 },
 "nbformat": 4,
 "nbformat_minor": 2
}
