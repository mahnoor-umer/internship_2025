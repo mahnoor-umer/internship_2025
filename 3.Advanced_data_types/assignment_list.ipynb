{
 "cells": [
  {
   "cell_type": "markdown",
   "metadata": {},
   "source": [
    "Assignment 1: Creating and Accessing Lists\n",
    "\n",
    "Create a list of the first 20 positive integers. Print the list."
   ]
  },
  {
   "cell_type": "code",
   "execution_count": 2,
   "metadata": {},
   "outputs": [
    {
     "name": "stdout",
     "output_type": "stream",
     "text": [
      "[1, 2, 3, 4, 5, 6, 7, 8, 9, 10, 11, 12, 13, 14, 15, 16, 17, 18, 19, 20]\n"
     ]
    }
   ],
   "source": [
    "## Create a list\n",
    "positive_integers=list(range(1,21)) \n",
    "print(positive_integers)\n"
   ]
  },
  {
   "cell_type": "markdown",
   "metadata": {},
   "source": [
    "Assignment 2: Accessing List Elements\n",
    "\n",
    "Print the first, middle, and last elements of the list created in Assignment 1."
   ]
  },
  {
   "cell_type": "code",
   "execution_count": 3,
   "metadata": {},
   "outputs": [
    {
     "name": "stdout",
     "output_type": "stream",
     "text": [
      "First element: 1\n",
      "Middle element: 11\n",
      "Last element: 20\n"
     ]
    }
   ],
   "source": [
    "positive_integers=list(range(1,21))\n",
    "\n",
    "## Accessing elements in a list\n",
    "print(\"First element:\", positive_integers[0]) #First element\n",
    "print(\"Middle element:\", positive_integers[len(positive_integers)//2]) #Middle element\n",
    "print(\"Last element:\", positive_integers[-1]) #Last element\n"
   ]
  },
  {
   "cell_type": "markdown",
   "metadata": {},
   "source": [
    "Assignment 3: List Slicing\n",
    "\n",
    "Print the first five elements, the last five elements, and the elements from index 5 to 15 of the list created in Assignment 1."
   ]
  },
  {
   "cell_type": "code",
   "execution_count": 7,
   "metadata": {},
   "outputs": [
    {
     "name": "stdout",
     "output_type": "stream",
     "text": [
      "First five elements: [1, 2, 3, 4, 5]\n",
      "Last five elements: [16, 17, 18, 19, 20]\n",
      "Elements from index 5 to 15: [6, 7, 8, 9, 10, 11, 12, 13, 14, 15, 16]\n"
     ]
    }
   ],
   "source": [
    "positive_integers=list(range(1,21))\n",
    "\n",
    "## List slicing\n",
    "first_five_elements=positive_integers[:5]\n",
    "last_five_elements=positive_integers[-5:]\n",
    "middle_elements=positive_integers[5:16]\n",
    "\n",
    "## print the slices\n",
    "print( f\"First five elements: {first_five_elements}\")\n",
    "print( f\"Last five elements: {last_five_elements}\")\n",
    "print( f\"Elements from index 5 to 15: {middle_elements}\")\n",
    "\n",
    "\n"
   ]
  },
  {
   "cell_type": "markdown",
   "metadata": {},
   "source": [
    "Assignment 4: List Comprehensions\n",
    "\n",
    "Create a new list containing the squares of the first 10 positive integers using a list comprehension. Print the new list."
   ]
  },
  {
   "cell_type": "code",
   "execution_count": 9,
   "metadata": {},
   "outputs": [
    {
     "name": "stdout",
     "output_type": "stream",
     "text": [
      "Squares of first 10 positive integers: [1, 4, 9, 16, 25, 36, 49, 64, 81, 100]\n"
     ]
    }
   ],
   "source": [
    "lst=range(1,11)\n",
    "## List comprehension\n",
    "squares = [i**2 for i in range(1, 11)]\n",
    "print( f\"Squares of first 10 positive integers: {squares}\")"
   ]
  },
  {
   "cell_type": "markdown",
   "metadata": {},
   "source": [
    "Assignment 5: Filtering Lists\n",
    "\n",
    "Create a new list containing only the even numbers from the list created in Assignment 1 using a list comprehension. Print the new list."
   ]
  },
  {
   "cell_type": "code",
   "execution_count": 1,
   "metadata": {},
   "outputs": [
    {
     "name": "stdout",
     "output_type": "stream",
     "text": [
      "even numbers: [2, 4, 6, 8, 10, 12, 14, 16, 18, 20]\n"
     ]
    }
   ],
   "source": [
    "positive_integers=list(range(1,21))\n",
    "## List comprehension\n",
    "evens=[i for i in positive_integers if i%2==0]\n",
    "print( f\"even numbers: {evens}\")"
   ]
  },
  {
   "cell_type": "markdown",
   "metadata": {},
   "source": [
    "Assignment 6: List Methods\n",
    "\n",
    "Create a list of random numbers and sort it in ascending and descending order. Remove the duplicates from the list and print the modified list."
   ]
  },
  {
   "cell_type": "code",
   "execution_count": 2,
   "metadata": {},
   "outputs": [
    {
     "name": "stdout",
     "output_type": "stream",
     "text": [
      "Original list: [14, 14, 4, 10, 6, 7, 2, 13, 12, 8]\n",
      "Ascending order: [2, 4, 6, 7, 8, 10, 12, 13, 14, 14]\n",
      "Descending order: [14, 14, 13, 12, 10, 8, 7, 6, 4, 2]\n",
      "Modified list: [2, 4, 6, 7, 8, 10, 12, 13, 14]\n"
     ]
    }
   ],
   "source": [
    "import random\n",
    "\n",
    "## List of random numbers\n",
    "random_numbers = [random.randint(1,20) for _ in range(10)]\n",
    "print( f\"Original list: {random_numbers}\")\n",
    "\n",
    "## Sort the list in ascending order\n",
    "ascending_order = sorted(random_numbers)\n",
    "print(f\"Ascending order: {ascending_order}\")\n",
    "\n",
    "## Sort the list in descending order\n",
    "descending_order = sorted(random_numbers, reverse=True)\n",
    "print(f\"Descending order: {descending_order}\")\n",
    "\n",
    "## Remove duplicates and print the modified list\n",
    "modified_list=list(set(random_numbers))\n",
    "print(f\"Modified list: {modified_list}\")\n",
    "\n",
    "\n",
    "\n"
   ]
  },
  {
   "cell_type": "markdown",
   "metadata": {},
   "source": [
    "Assignment 7: Nested Lists\n",
    "\n",
    "Create a nested list representing a 3x3 matrix and print the matrix. Access and print the element at the second row and third column."
   ]
  },
  {
   "cell_type": "code",
   "execution_count": 1,
   "metadata": {},
   "outputs": [
    {
     "name": "stdout",
     "output_type": "stream",
     "text": [
      "3x3 matrix:\n",
      "[1, 2, 3]\n",
      "[4, 5, 6]\n",
      "[7, 8, 9]\n",
      "\n",
      "Element at position (1,2) is:  6\n"
     ]
    }
   ],
   "source": [
    "## Create a 3x3 matrix \n",
    "matrix = [\n",
    "    [1, 2, 3],\n",
    "    [4, 5, 6],\n",
    "    [7, 8, 9]\n",
    "]\n",
    "print(\"3x3 matrix:\")\n",
    "for row in matrix:\n",
    "    print(row)  \n",
    "element=matrix[1][2] #index 1 for second row and 2 for third coluumn\n",
    "print( f\"\\nElement at position (1,2) is: \", element) \n",
    "\n",
    "\n"
   ]
  },
  {
   "cell_type": "markdown",
   "metadata": {},
   "source": [
    "Assignment 8: List of Dictionaries\n",
    "\n",
    "Create a list of dictionaries where each dictionary represents a student with keys 'name' and 'score'. Sort the list of dictionaries by the 'score' in descending order and print the sorted list."
   ]
  },
  {
   "cell_type": "code",
   "execution_count": 2,
   "metadata": {},
   "outputs": [
    {
     "name": "stdout",
     "output_type": "stream",
     "text": [
      "Sorted list of students by score (descending:\n",
      "Name: Zubia, Score: 90\n",
      "Name: Mahnoor, Score: 80\n",
      "Name: Aina, Score: 70\n"
     ]
    }
   ],
   "source": [
    "## Create a list of dictionaries\n",
    "students=[\n",
    "    {'name':'Mahnoor', 'score': 80},\n",
    "    {'name':'Zubia', 'score': 90},\n",
    "    {'name':'Aina', 'score': 70},\n",
    "]\n",
    "sorted_list=sorted(students, key=lambda x: x['score'] , reverse=True)\n",
    "print( f\"Sorted list of students by score (descending:\") \n",
    "for students in sorted_list:\n",
    "    print(f\"Name: {students['name']}, Score: {students['score']}\")\n",
    "\n"
   ]
  },
  {
   "cell_type": "markdown",
   "metadata": {},
   "source": [
    "Assignment 9: Matrix Transposition\n",
    "\n",
    "Write a function that takes a 3x3 matrix (nested list) as input and returns its transpose. Print the original and transposed matrices."
   ]
  },
  {
   "cell_type": "code",
   "execution_count": 3,
   "metadata": {},
   "outputs": [
    {
     "name": "stdout",
     "output_type": "stream",
     "text": [
      "[[1, 4, 7], [2, 5, 8], [3, 6, 9]]\n",
      "original matrix:\n",
      "[1, 2, 3]\n",
      "[4, 5, 6]\n",
      "[7, 8, 9]\n",
      "\n",
      "transposed_matrix:\n",
      "[1, 4, 7]\n",
      "[2, 5, 8]\n",
      "[3, 6, 9]\n"
     ]
    }
   ],
   "source": [
    "def transpose_matrix(matrix):\n",
    "    # Using list comprehension to transpose the matrix\n",
    "    transposed = [[matrix[j][i] for j in range(3)] for i in range(3)]\n",
    "    return transposed\n",
    "## Input\n",
    "matrix = [\n",
    "    [1, 2, 3],\n",
    "    [4, 5, 6],\n",
    "    [7, 8, 9]\n",
    "]\n",
    "transposed_matrix=transpose_matrix(matrix)\n",
    "print(transposed_matrix) \n",
    "## Print original matrix\n",
    "print(\"original matrix:\")\n",
    "for row in matrix:\n",
    "    print(row)  \n",
    "\n",
    "## Print transposed matrix\n",
    "print(\"\\ntransposed_matrix:\")    \n",
    "for row in transposed_matrix:\n",
    "    print(row)"
   ]
  },
  {
   "cell_type": "markdown",
   "metadata": {},
   "source": [
    "Assignment 10: Flattening a Nested List\n",
    "\n",
    "Write a function that takes a nested list and flattens it into a single list. Print the original and flattened lists."
   ]
  },
  {
   "cell_type": "code",
   "execution_count": 11,
   "metadata": {},
   "outputs": [
    {
     "name": "stdout",
     "output_type": "stream",
     "text": [
      "Original nested list:\n",
      "[[1, 2, 3], [4, 5, 6], [7, 8, 9]]\n",
      "Flattened list:\n",
      "[1, 2, 3, 4, 5, 6, 7, 8, 9]\n"
     ]
    }
   ],
   "source": [
    "def flatten_list(nested_list):\n",
    "    flat_list = [item for sublist in nested_list for item in sublist]\n",
    "    return flat_list\n",
    "\n",
    "nested_list = [\n",
    "    [1, 2, 3],\n",
    "    [4, 5, 6],\n",
    "    [7, 8, 9]\n",
    "]\n",
    "flattened = flatten_list(nested_list)\n",
    "print(\"Original nested list:\")\n",
    "print(nested_list)\n",
    "print(\"Flattened list:\")\n",
    "print(flattened)"
   ]
  },
  {
   "cell_type": "markdown",
   "metadata": {},
   "source": [
    "Assignment 11: List Manipulation\n",
    "\n",
    "Create a list of the first 10 positive integers. Remove the elements at indices 2, 4, and 6, and insert the element '99' at index 5. Print the modified list."
   ]
  },
  {
   "cell_type": "code",
   "execution_count": 15,
   "metadata": {},
   "outputs": [
    {
     "name": "stdout",
     "output_type": "stream",
     "text": [
      "Original list: [1, 2, 3, 4, 5, 6, 7, 8, 9, 10]\n",
      "Modified list: [1, 2, 4, 6, 8, 99, 9, 10]\n"
     ]
    }
   ],
   "source": [
    "lst=list(range(1,11))\n",
    "print( f\"Original list: {lst}\")\n",
    "## Remove elements at indices 2,4 and 6\n",
    "del lst[6]\n",
    "del lst[4] \n",
    "del lst[2]\n",
    "## Insert element 99 at index 5\n",
    "lst.insert(5,99)\n",
    "print( f\"Modified list: {lst}\" )  # Output: [1, 2, 3, 4, 99\n",
    "\n",
    "\n"
   ]
  },
  {
   "cell_type": "markdown",
   "metadata": {},
   "source": [
    "Assignment 12: List Zipping\n",
    "\n",
    "Create two lists of the same length. Use the zip function to combine these lists into a list of tuples and print the result."
   ]
  },
  {
   "cell_type": "code",
   "execution_count": 1,
   "metadata": {},
   "outputs": [
    {
     "name": "stdout",
     "output_type": "stream",
     "text": [
      "[(1, 'a'), (2, 'b'), (3, 'c'), (4, 'd'), (5, 'e')]\n"
     ]
    }
   ],
   "source": [
    "## Create two lists of same length\n",
    "list1 = [1, 2, 3, 4, 5]\n",
    "list2 = ['a', 'b', 'c', 'd', 'e']\n",
    "\n",
    "zipped_list= list(zip(list1,list2))\n",
    "print(zipped_list)  # Output: [(1, 'a'), (2, 'b"
   ]
  },
  {
   "cell_type": "markdown",
   "metadata": {},
   "source": [
    "Assignment 13: List Reversal\n",
    "\n",
    "Write a function that takes a list and returns a new list with the elements in reverse order. Print the original and reversed lists."
   ]
  },
  {
   "cell_type": "code",
   "execution_count": 4,
   "metadata": {},
   "outputs": [
    {
     "name": "stdout",
     "output_type": "stream",
     "text": [
      "Original_list [1, 2, 3, 4, 5]\n",
      "Reversed_list  [5, 4, 3, 2, 1]\n"
     ]
    }
   ],
   "source": [
    "def reverse_list(lst):\n",
    "    return lst[::-1]\n",
    "## Create a list\n",
    "original_list=[1,2,3,4,5]\n",
    "reversed_list=reverse_list(original_list)\n",
    "\n",
    "print( f\"Original_list\" ,original_list)\n",
    "print( f\"Reversed_list \" ,reversed_list)\n",
    "\n",
    "\n"
   ]
  },
  {
   "cell_type": "markdown",
   "metadata": {},
   "source": [
    "Assignment 14: List Rotation\n",
    "\n",
    "Write a function that rotates a list by n positions. Print the original and rotated lists."
   ]
  },
  {
   "cell_type": "code",
   "execution_count": 5,
   "metadata": {},
   "outputs": [
    {
     "name": "stdout",
     "output_type": "stream",
     "text": [
      "Original_list [1, 2, 3, 4, 5]\n",
      "Rotated_list [3, 4, 5, 1, 2]\n"
     ]
    }
   ],
   "source": [
    "def rotate_list(lst,n):\n",
    "    n = n % len(lst)\n",
    "    return lst[n:] + lst[:n]\n",
    "## Create a list\n",
    "original_list=[1,2,3,4,5]\n",
    "rotated_list=rotate_list(original_list,2)\n",
    "\n",
    "print( f\"Original_list\" ,original_list)\n",
    "print( f\"Rotated_list\" ,rotated_list)\n",
    "\n"
   ]
  },
  {
   "cell_type": "markdown",
   "metadata": {},
   "source": [
    "Assignment 15: List Intersection\n",
    "\n",
    "Write a function that takes two lists and returns a new list containing only the elements that are present in both lists. Print the intersected list."
   ]
  },
  {
   "cell_type": "code",
   "execution_count": 7,
   "metadata": {},
   "outputs": [
    {
     "name": "stdout",
     "output_type": "stream",
     "text": [
      "Intersected list [4, 5]\n"
     ]
    }
   ],
   "source": [
    "def list_intersection(lst1, lst2):\n",
    "    return list(set(lst1) & set(lst2))\n",
    "## Create two lists\n",
    "list1 = [1, 2, 3, 4, 5]\n",
    "list2 = [4, 5, 6, 7, 8]\n",
    "intersected_list=list_intersection(list1,list2)\n",
    "\n",
    "print( f\"Intersected list\" , intersected_list)\n"
   ]
  }
 ],
 "metadata": {
  "kernelspec": {
   "display_name": "Python 3",
   "language": "python",
   "name": "python3"
  },
  "language_info": {
   "codemirror_mode": {
    "name": "ipython",
    "version": 3
   },
   "file_extension": ".py",
   "mimetype": "text/x-python",
   "name": "python",
   "nbconvert_exporter": "python",
   "pygments_lexer": "ipython3",
   "version": "3.12.0"
  }
 },
 "nbformat": 4,
 "nbformat_minor": 2
}
