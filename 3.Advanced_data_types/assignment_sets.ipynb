{
 "cells": [
  {
   "cell_type": "markdown",
   "metadata": {},
   "source": [
    "Assignment 1: Creating and Accessing Sets\n",
    "\n",
    "Create a set with the first 10 positive integers. Print the set."
   ]
  },
  {
   "cell_type": "code",
   "execution_count": 1,
   "metadata": {},
   "outputs": [
    {
     "name": "stdout",
     "output_type": "stream",
     "text": [
      "{1, 2, 3, 4, 5, 6, 7, 8, 9, 10}\n"
     ]
    }
   ],
   "source": [
    "## Create a set \n",
    "my_set= {1, 2, 3, 4, 5, 6, 7, 8, 9, 10}\n",
    "print(my_set)  # Output: {1, 2, 3, 4,"
   ]
  },
  {
   "cell_type": "markdown",
   "metadata": {},
   "source": [
    "Assignment 2: Adding and Removing Elements\n",
    "\n",
    "Add the number 11 to the set created in Assignment 1. Then remove the number 1 from the set. Print the modified set."
   ]
  },
  {
   "cell_type": "code",
   "execution_count": 2,
   "metadata": {},
   "outputs": [
    {
     "name": "stdout",
     "output_type": "stream",
     "text": [
      "{2, 3, 4, 5, 6, 7, 8, 9, 10, 11}\n"
     ]
    }
   ],
   "source": [
    "my_set= {1, 2, 3, 4, 5, 6, 7, 8, 9, 10}\n",
    "# Add an element to the set\n",
    "my_set.add(11)\n",
    "# Remove an element from the set\n",
    "my_set.remove(1)\n",
    "\n",
    "print(my_set)"
   ]
  },
  {
   "cell_type": "markdown",
   "metadata": {},
   "source": [
    "Assignment 3: Set Operations\n",
    "\n",
    "Create two sets: one with the first 5 positive integers and another with the first 5 even integers. Perform and print the results of union, intersection, difference, and symmetric difference operations on these sets."
   ]
  },
  {
   "cell_type": "code",
   "execution_count": 5,
   "metadata": {},
   "outputs": [
    {
     "name": "stdout",
     "output_type": "stream",
     "text": [
      "Union: {1, 2, 3, 4, 5, 6, 8, 10}\n",
      "Intersection: {2, 4}\n",
      "Difference: {1, 3, 5}\n",
      "Symmetric difference: {1, 3, 5, 6, 8, 10}\n"
     ]
    }
   ],
   "source": [
    "## Create two sets\n",
    "set1 = {1, 2, 3, 4, 5}\n",
    "set2 = {2, 4, 6, 8, 10}\n",
    "\n",
    "# Find the union of the two sets\n",
    "set_union = set1.union(set2)\n",
    "print( f\"Union:\" , set_union)\n",
    "\n",
    "# Find the intersection of the two sets\n",
    "set_intersection = set1.intersection(set2)\n",
    "print( f\"Intersection:\", set_intersection)\n",
    "\n",
    "# Find the difference of the two sets\n",
    "set_difference = set1.difference(set2)\n",
    "print( f\"Difference:\", set_difference)\n",
    "\n",
    "# Find the symmetric difference of the two sets\n",
    "set_symmetric_difference = set1.symmetric_difference(set2)\n",
    "print( f\"Symmetric difference:\", set_symmetric_difference)\n"
   ]
  },
  {
   "cell_type": "markdown",
   "metadata": {},
   "source": [
    "Assignment 4: Set Comprehensions\n",
    "\n",
    "Create a new set containing the squares of the first 10 positive integers using a set comprehension. Print the new set."
   ]
  },
  {
   "cell_type": "code",
   "execution_count": 7,
   "metadata": {},
   "outputs": [
    {
     "name": "stdout",
     "output_type": "stream",
     "text": [
      "Squares: [1, 4, 9, 16, 25, 36, 49, 64, 81, 100]\n"
     ]
    }
   ],
   "source": [
    "## Set comprehension\n",
    "set_squares= [x**2 for x in range(1,11)]\n",
    "print( f\"Squares:\" , set_squares)"
   ]
  },
  {
   "cell_type": "markdown",
   "metadata": {},
   "source": [
    "Assignment 5: Set Membership Testing\n",
    "\n",
    "Create a set and test if certain elements are present in the set. Print the results."
   ]
  },
  {
   "cell_type": "code",
   "execution_count": 4,
   "metadata": {},
   "outputs": [
    {
     "name": "stdout",
     "output_type": "stream",
     "text": [
      "2 is in the set\n",
      "3 is not in the set\n",
      "5 is not in the set\n"
     ]
    }
   ],
   "source": [
    "## Create a set\n",
    "set= {2, 4, 6,}\n",
    "# Test elements\n",
    "test_elements={ 2, 3, 5}\n",
    "for element in test_elements:\n",
    "    if element in set:\n",
    "        print( f\"{element} is in the set\")\n",
    "    else:\n",
    "        print(f\"{element} is not in the set\")\n",
    "    \n",
    "    \n"
   ]
  },
  {
   "cell_type": "markdown",
   "metadata": {},
   "source": [
    "Assignment 6: Removing Elements from Sets\n",
    "\n",
    "Create a set and remove elements from it until it is empty. Print the set after each removal."
   ]
  },
  {
   "cell_type": "code",
   "execution_count": 6,
   "metadata": {},
   "outputs": [
    {
     "name": "stdout",
     "output_type": "stream",
     "text": [
      "{2, 3, 4}\n",
      "{3, 4}\n",
      "{4}\n",
      "set()\n"
     ]
    }
   ],
   "source": [
    "## Create a  set\n",
    "my_set = {1, 2, 3, 4}\n",
    "# Remove elements one by one\n",
    "while my_set:\n",
    "    my_set.pop()  # Remove and return an arbitrary element\n",
    "    print(my_set)\n",
    "\n"
   ]
  }
 ],
 "metadata": {
  "kernelspec": {
   "display_name": "Python 3",
   "language": "python",
   "name": "python3"
  },
  "language_info": {
   "codemirror_mode": {
    "name": "ipython",
    "version": 3
   },
   "file_extension": ".py",
   "mimetype": "text/x-python",
   "name": "python",
   "nbconvert_exporter": "python",
   "pygments_lexer": "ipython3",
   "version": "3.12.0"
  }
 },
 "nbformat": 4,
 "nbformat_minor": 2
}
