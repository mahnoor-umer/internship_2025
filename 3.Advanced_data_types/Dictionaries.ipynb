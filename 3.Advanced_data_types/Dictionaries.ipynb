{
 "cells": [
  {
   "cell_type": "markdown",
   "metadata": {},
   "source": [
    "#### Dictionaries\n",
    "Video Outline:\n",
    "1. Introduction to Dictionaries\n",
    "2. Creating Dictionaries\n",
    "3. Accessing Dictionary Elements\n",
    "4. Modifying Dictionary Elements\n",
    "5. Dictionary Methods\n",
    "6. Iterating Over Dictionaries\n",
    "7. Nested Dictionaries\n",
    "8. Dictionary Comprehensions\n",
    "9. Practical Examples and Common Errors"
   ]
  },
  {
   "cell_type": "markdown",
   "metadata": {},
   "source": [
    "##### Introduction to Dictionaries\n",
    "\n",
    "Dictionaries are unordered collections of items. They store data in key-value pairs.\n",
    "Keys must be unique and immutable (e.g., strings, numbers, or tuples), while values can be of any type."
   ]
  },
  {
   "cell_type": "code",
   "execution_count": 2,
   "metadata": {},
   "outputs": [
    {
     "name": "stdout",
     "output_type": "stream",
     "text": [
      "<class 'dict'>\n"
     ]
    }
   ],
   "source": [
    "## Creating Dictionaries\n",
    "\n",
    "empty_dict={}\n",
    "print(type(empty_dict))"
   ]
  },
  {
   "cell_type": "code",
   "execution_count": 3,
   "metadata": {},
   "outputs": [
    {
     "data": {
      "text/plain": [
       "{}"
      ]
     },
     "execution_count": 3,
     "metadata": {},
     "output_type": "execute_result"
    }
   ],
   "source": [
    "empty_dict=dict()\n",
    "empty_dict"
   ]
  },
  {
   "cell_type": "code",
   "execution_count": 4,
   "metadata": {},
   "outputs": [
    {
     "name": "stdout",
     "output_type": "stream",
     "text": [
      "{'name': 'Mahnoor', 'age': 19, 'grade': 'A'}\n",
      "<class 'dict'>\n"
     ]
    }
   ],
   "source": [
    "student={\"name\":\"Mahnoor\",\"age\":19,\"grade\": 'A'}\n",
    "print(student)\n",
    "print(type(student))"
   ]
  },
  {
   "cell_type": "code",
   "execution_count": 5,
   "metadata": {},
   "outputs": [
    {
     "name": "stdout",
     "output_type": "stream",
     "text": [
      "{'name': 'Mahnoor', 'age': 24}\n"
     ]
    }
   ],
   "source": [
    "## Single key is slways used\n",
    "\n",
    "student={\"name\":\"Mahnoor\",\"age\":21,\"age\":24}\n",
    "print(student)"
   ]
  },
  {
   "cell_type": "code",
   "execution_count": 6,
   "metadata": {},
   "outputs": [
    {
     "name": "stdout",
     "output_type": "stream",
     "text": [
      "{'name': 'Mahnoor', 'age': 19, 'grade': 'A'}\n"
     ]
    }
   ],
   "source": [
    "student={\"name\":\"Mahnoor\",\"age\":19,\"grade\":'A'}\n",
    "print(student)"
   ]
  },
  {
   "cell_type": "code",
   "execution_count": 7,
   "metadata": {},
   "outputs": [
    {
     "name": "stdout",
     "output_type": "stream",
     "text": [
      "A\n",
      "19\n",
      "A\n",
      "19\n",
      "None\n",
      "Not Available\n"
     ]
    }
   ],
   "source": [
    "## Accessing Dictionary elements\n",
    "\n",
    "print(student['grade'])\n",
    "print(student['age'])\n",
    "\n",
    "## Accessing elements using get() method\n",
    "print(student.get('grade'))\n",
    "print(student.get('age'))\n",
    "print(student.get('last_name'))\n",
    "print(student.get('last_name', \"Not Available\"))  # default value if key is not found\n"
   ]
  },
  {
   "cell_type": "code",
   "execution_count": 8,
   "metadata": {},
   "outputs": [
    {
     "name": "stdout",
     "output_type": "stream",
     "text": [
      "{'name': 'Mahnoor', 'age': 19, 'grade': 'A'}\n"
     ]
    }
   ],
   "source": [
    "## Modifying Dicitonary Elements\n",
    "## Dictionaries are mutable,so you can add, update or delete elements\n",
    "print(student)"
   ]
  },
  {
   "cell_type": "code",
   "execution_count": 14,
   "metadata": {},
   "outputs": [
    {
     "name": "stdout",
     "output_type": "stream",
     "text": [
      "{'name': 'Mahnoor', 'age': 20, 'grade': 'A', 'address': 'Pakistan', 'degree': 'Microbiology'}\n",
      "{'name': 'Mahnoor', 'age': 20, 'grade': 'A', 'address': 'Pakistan', 'degree': 'Microbiology'}\n"
     ]
    }
   ],
   "source": [
    "student[\"age\"]=20 # update value for key\n",
    "print(student)\n",
    "\n",
    "student[\"address\"]=\"Pakistan\" # add new key-value pair\n",
    "print(student)"
   ]
  },
  {
   "cell_type": "code",
   "execution_count": 15,
   "metadata": {},
   "outputs": [
    {
     "name": "stdout",
     "output_type": "stream",
     "text": [
      "{'name': 'Mahnoor', 'grade': 'A', 'address': 'Pakistan', 'degree': 'Microbiology'}\n"
     ]
    }
   ],
   "source": [
    "del student[\"age\"] ## delete key and value pair\n",
    "\n",
    "print(student)"
   ]
  },
  {
   "cell_type": "code",
   "execution_count": 17,
   "metadata": {},
   "outputs": [
    {
     "name": "stdout",
     "output_type": "stream",
     "text": [
      "{'name': 'Mahnoor', 'age': 19, 'address': 'Pakistan'}\n"
     ]
    }
   ],
   "source": [
    "student={\"name\":\"Mahnoor\", \"age\":19, \"address\":\"Pakistan\"}\n",
    "print(student)"
   ]
  },
  {
   "cell_type": "code",
   "execution_count": 18,
   "metadata": {},
   "outputs": [
    {
     "name": "stdout",
     "output_type": "stream",
     "text": [
      "dict_keys(['name', 'age', 'address'])\n",
      "dict_values(['Mahnoor', 19, 'Pakistan'])\n",
      "dict_items([('name', 'Mahnoor'), ('age', 19), ('address', 'Pakistan')])\n"
     ]
    }
   ],
   "source": [
    "## Dictionary methods\n",
    "\n",
    "keys=student.keys() ## get all the keys\n",
    "print(keys)\n",
    "values=student.values() ## get all values\n",
    "print(values)\n",
    "items=student.items() ## get all key value pairs\n",
    "print(items)"
   ]
  },
  {
   "cell_type": "code",
   "execution_count": 19,
   "metadata": {},
   "outputs": [
    {
     "name": "stdout",
     "output_type": "stream",
     "text": [
      "{'name': 'Mahnoor', 'age': 19, 'address': 'Pakistan'}\n",
      "{'name': 'Mahnoor', 'age': 19, 'address': 'Pakistan'}\n"
     ]
    }
   ],
   "source": [
    "## Shallow copy\n",
    "\n",
    "student_copy=student\n",
    "print(student)\n",
    "print(student_copy)"
   ]
  },
  {
   "cell_type": "code",
   "execution_count": 20,
   "metadata": {},
   "outputs": [
    {
     "name": "stdout",
     "output_type": "stream",
     "text": [
      "{'name': 'Mahnoor2', 'age': 19, 'address': 'Pakistan'}\n",
      "{'name': 'Mahnoor2', 'age': 19, 'address': 'Pakistan'}\n"
     ]
    }
   ],
   "source": [
    "student[\"name\"]=\"Mahnoor2\"\n",
    "print(student)\n",
    "print(student_copy)\n"
   ]
  },
  {
   "cell_type": "code",
   "execution_count": 21,
   "metadata": {},
   "outputs": [
    {
     "name": "stdout",
     "output_type": "stream",
     "text": [
      "{'name': 'Mahnoor2', 'age': 19, 'address': 'Pakistan'}\n",
      "{'name': 'Mahnoor2', 'age': 19, 'address': 'Pakistan'}\n"
     ]
    }
   ],
   "source": [
    "student_copy1=student.copy() ## shallow copy\n",
    "print(student_copy1)\n",
    "print(student)"
   ]
  },
  {
   "cell_type": "code",
   "execution_count": 25,
   "metadata": {},
   "outputs": [
    {
     "name": "stdout",
     "output_type": "stream",
     "text": [
      "{'name': 'Mahnoor2', 'age': 19, 'address': 'Pakistan'}\n",
      "{'name': 'Mahnoor3', 'age': 19, 'address': 'Pakistan'}\n"
     ]
    }
   ],
   "source": [
    "student[\"name\"]=\"Mahnoor3\"\n",
    "print(student_copy1)\n",
    "print(student)"
   ]
  },
  {
   "cell_type": "code",
   "execution_count": 23,
   "metadata": {},
   "outputs": [
    {
     "name": "stdout",
     "output_type": "stream",
     "text": [
      "name age address "
     ]
    }
   ],
   "source": [
    "### Iterating Over Dictionaries\n",
    "## You can use loops to iterate over dictionatries,keys,values or items\n",
    "\n",
    "## Iterate over keys\n",
    "for keys in student.keys():\n",
    "    print(keys, end=\" \")\n"
   ]
  },
  {
   "cell_type": "code",
   "execution_count": 27,
   "metadata": {},
   "outputs": [
    {
     "name": "stdout",
     "output_type": "stream",
     "text": [
      "Mahnoor3 19 Pakistan "
     ]
    }
   ],
   "source": [
    "## Iterate over values\n",
    "for values in student.values():\n",
    "    print(values, end=\" \")"
   ]
  },
  {
   "cell_type": "code",
   "execution_count": 29,
   "metadata": {},
   "outputs": [
    {
     "name": "stdout",
     "output_type": "stream",
     "text": [
      " name:Mahnoor3\n",
      " age:19\n",
      " address:Pakistan\n"
     ]
    }
   ],
   "source": [
    "## Iterate over key value pairs\n",
    "for key,value in student.items():\n",
    "    print(f\" {key}:{value}\")"
   ]
  },
  {
   "cell_type": "code",
   "execution_count": 30,
   "metadata": {},
   "outputs": [
    {
     "name": "stdout",
     "output_type": "stream",
     "text": [
      "{'Mahnoor': {'age': 19, 'grade': 'A'}, 'Mariam': {'age': 13, 'grade': 'B'}}\n"
     ]
    }
   ],
   "source": [
    "## Nested Dictionaries\n",
    "\n",
    "students={\n",
    "    \"Mahnoor\": {\"age\": 19, \"grade\": 'A'},\n",
    "    \"Mariam\": {\"age\": 13, \"grade\": 'B'},\n",
    "}\n",
    "print(students)\n",
    "\n"
   ]
  },
  {
   "cell_type": "code",
   "execution_count": 31,
   "metadata": {},
   "outputs": [
    {
     "name": "stdout",
     "output_type": "stream",
     "text": [
      "A\n",
      "13\n"
     ]
    }
   ],
   "source": [
    "## Access elements in nested dictionaries\n",
    "\n",
    "print(students[\"Mahnoor\"][\"grade\"])\n",
    "print(students[\"Mariam\"][\"age\"])"
   ]
  },
  {
   "cell_type": "code",
   "execution_count": 32,
   "metadata": {},
   "outputs": [
    {
     "data": {
      "text/plain": [
       "dict_items([('Mahnoor', {'age': 19, 'grade': 'A'}), ('Mariam', {'age': 13, 'grade': 'B'})])"
      ]
     },
     "execution_count": 32,
     "metadata": {},
     "output_type": "execute_result"
    }
   ],
   "source": [
    "students.items()"
   ]
  },
  {
   "cell_type": "code",
   "execution_count": 33,
   "metadata": {},
   "outputs": [
    {
     "name": "stdout",
     "output_type": "stream",
     "text": [
      "Mahnoor:{'age': 19, 'grade': 'A'}\n",
      "age:19\n",
      "grade:A\n",
      "Mariam:{'age': 13, 'grade': 'B'}\n",
      "age:13\n",
      "grade:B\n"
     ]
    }
   ],
   "source": [
    "## Iterating over nested dictionaries\n",
    "for student_id,student_info in students.items():\n",
    "    print(f\"{student_id}:{student_info}\")\n",
    "    for key,value in student_info.items():\n",
    "        print(f\"{key}:{value}\")\n"
   ]
  },
  {
   "cell_type": "code",
   "execution_count": 34,
   "metadata": {},
   "outputs": [
    {
     "name": "stdout",
     "output_type": "stream",
     "text": [
      "{0: 0, 1: 1, 2: 4, 3: 9, 4: 16, 5: 25, 6: 36, 7: 49, 8: 64, 9: 81}\n"
     ]
    }
   ],
   "source": [
    "## Dictionary Comphrehension\n",
    "\n",
    "squares={x:x**2 for x in range(10)}\n",
    "print(squares)"
   ]
  },
  {
   "cell_type": "code",
   "execution_count": 35,
   "metadata": {},
   "outputs": [
    {
     "name": "stdout",
     "output_type": "stream",
     "text": [
      "{1: 1, 3: 9, 5: 25, 7: 49, 9: 81}\n"
     ]
    }
   ],
   "source": [
    "## Dictionary comprehension with condition\n",
    "\n",
    "odds={x:x**2 for x in range(10) if x%2!=0}\n",
    "print(odds)"
   ]
  },
  {
   "cell_type": "code",
   "execution_count": 36,
   "metadata": {},
   "outputs": [
    {
     "name": "stdout",
     "output_type": "stream",
     "text": [
      "{1: 1, 2: 2, 3: 3, 4: 4, 5: 2}\n"
     ]
    }
   ],
   "source": [
    "## Practical Examples\n",
    "## Use a dictionary to count the frequency of elements in list\n",
    "\n",
    "numbers=[1,2,2,3,3,3,4,4,4,4,5,5]\n",
    "frequency={}\n",
    "\n",
    "for number in numbers:\n",
    "    if number in frequency:\n",
    "        frequency[number]+=1\n",
    "    else:\n",
    "        frequency[number]=1\n",
    "print(frequency)\n"
   ]
  },
  {
   "cell_type": "code",
   "execution_count": 38,
   "metadata": {},
   "outputs": [
    {
     "name": "stdout",
     "output_type": "stream",
     "text": [
      "{'a': 2, 'b': 4, 'c': 5}\n"
     ]
    }
   ],
   "source": [
    "## Merge 2 dictionaries into one\n",
    "\n",
    "dict1={'a':2,'b':3}\n",
    "dict2={'b':4,'c':5}\n",
    "merged_dict={**dict1 ,**dict2}\n",
    "print(merged_dict)  # Output: {'a': 2, 'b': 4"
   ]
  },
  {
   "cell_type": "markdown",
   "metadata": {},
   "source": [
    "#### Conclusion\n",
    "Dictionaries are powerful tools in Python for managing key-value pairs. They are used in a variety of real-world scenarios, such as counting word frequency, grouping data, storing configuration settings, managing phonebooks, tracking inventory, and caching results. Understanding how to leverage dictionaries effectively can greatly enhance the efficiency and readability of your code."
   ]
  }
 ],
 "metadata": {
  "kernelspec": {
   "display_name": "Python 3",
   "language": "python",
   "name": "python3"
  },
  "language_info": {
   "codemirror_mode": {
    "name": "ipython",
    "version": 3
   },
   "file_extension": ".py",
   "mimetype": "text/x-python",
   "name": "python",
   "nbconvert_exporter": "python",
   "pygments_lexer": "ipython3",
   "version": "3.12.0"
  }
 },
 "nbformat": 4,
 "nbformat_minor": 2
}
