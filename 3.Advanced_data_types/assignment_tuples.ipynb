{
 "cells": [
  {
   "cell_type": "markdown",
   "metadata": {},
   "source": [
    "Assignment 1: Creating and Accessing Tuples\n",
    "\n",
    "Create a tuple with the first 10 positive integers. Print the tuple."
   ]
  },
  {
   "cell_type": "code",
   "execution_count": 1,
   "metadata": {},
   "outputs": [
    {
     "name": "stdout",
     "output_type": "stream",
     "text": [
      "(1, 2, 3, 4, 5, 6, 7, 8, 9, 10)\n"
     ]
    }
   ],
   "source": [
    "## Create a tuple\n",
    "my_tuple=tuple(range(1,11))\n",
    "print(my_tuple)  # Output: (1, 2, 3, 4,"
   ]
  },
  {
   "cell_type": "markdown",
   "metadata": {},
   "source": [
    "Assignment 2: Accessing Tuple Elements\n",
    "\n",
    "Print the first, middle, and last elements of the tuple created in Assignment 1."
   ]
  },
  {
   "cell_type": "code",
   "execution_count": 2,
   "metadata": {},
   "outputs": [
    {
     "name": "stdout",
     "output_type": "stream",
     "text": [
      "1\n",
      "(5, 6, 7)\n",
      "10\n"
     ]
    }
   ],
   "source": [
    "my_tuple=tuple(range(1,11))\n",
    "## Accessing tuple elements\n",
    "print(my_tuple[0])  # first element\n",
    "print(my_tuple[4:7])  # middle elements\n",
    "print(my_tuple[-1])   # last element\n",
    "\n",
    "\n"
   ]
  },
  {
   "cell_type": "markdown",
   "metadata": {},
   "source": [
    "Assignment 3: Tuple Slicing\n",
    "\n",
    "Print the first three elements, the last three elements, and the elements from index 2 to 5 of the tuple created in Assignment 1."
   ]
  },
  {
   "cell_type": "code",
   "execution_count": 4,
   "metadata": {},
   "outputs": [
    {
     "name": "stdout",
     "output_type": "stream",
     "text": [
      "First three elements of the tuple: (1, 2, 3)\n",
      "Last three elements of the tuple: (8, 9, 10)\n",
      "Elements from index 2 to 5: (2, 3, 4, 5)\n"
     ]
    }
   ],
   "source": [
    "my_tuple=tuple(range(1,11))\n",
    "## Tuple slicing\n",
    "print( f\"First three elements of the tuple: {my_tuple[:3]}\") \n",
    "print( f\"Last three elements of the tuple: {my_tuple[-3:]}\")\n",
    "print( f\"Elements from index 2 to 5: {my_tuple[1:5]}\")"
   ]
  },
  {
   "cell_type": "markdown",
   "metadata": {},
   "source": [
    "Assignment 4: Nested Tuples\n",
    "\n",
    "Create a nested tuple representing a 3x3 matrix and print the matrix. Access and print the element at the second row and third column."
   ]
  },
  {
   "cell_type": "code",
   "execution_count": 1,
   "metadata": {},
   "outputs": [
    {
     "name": "stdout",
     "output_type": "stream",
     "text": [
      "3x3 Matrix:\n",
      "(1, 2, 3)\n",
      "(4, 5, 6)\n",
      "(7, 8, 9)\n",
      "\n",
      "Element at second row and third column:  6\n"
     ]
    }
   ],
   "source": [
    "## Create a 3x3 matrix\n",
    "matrix = (\n",
    "    (1, 2, 3), \n",
    "    (4, 5, 6),\n",
    "    (7, 8, 9)\n",
    ")\n",
    "print(\"3x3 Matrix:\") \n",
    "for row in matrix:\n",
    "    print(row)  \n",
    "## Accessing element at second row and third column\n",
    "element= matrix[1][2]  \n",
    "print( f\"\\nElement at second row and third column: \", element)  # Output: 6\n",
    "\n"
   ]
  },
  {
   "cell_type": "markdown",
   "metadata": {},
   "source": [
    "Assignment 5: Tuple Concatenation\n",
    "\n",
    "Concatenate two tuples: (1, 2, 3) and (4, 5, 6). Print the resulting tuple."
   ]
  },
  {
   "cell_type": "code",
   "execution_count": 4,
   "metadata": {},
   "outputs": [
    {
     "name": "stdout",
     "output_type": "stream",
     "text": [
      "Concatenated tuple: (1, 2, 3, 4, 5, 6)\n"
     ]
    }
   ],
   "source": [
    "## Create two tuples\n",
    "tuple1 = (1, 2, 3)\n",
    "tuple2 = (4, 5, 6)\n",
    "concatenated_tuple= tuple1 +  tuple2\n",
    "print( f\"Concatenated tuple:\" , concatenated_tuple)  # Output: (1, 2, 3, 4,"
   ]
  },
  {
   "cell_type": "markdown",
   "metadata": {},
   "source": [
    "Assignment 6: Tuple Methods\n",
    "\n",
    "Create a tuple with duplicate elements and count the occurrences of an element. Find the index of the first occurrence of an element in the tuple."
   ]
  },
  {
   "cell_type": "code",
   "execution_count": 5,
   "metadata": {},
   "outputs": [
    {
     "name": "stdout",
     "output_type": "stream",
     "text": [
      "Tuple: (1, 1, 2, 2, 2, 3, 3, 3, 4, 4, 5, 6, 6)\n",
      "Count of 2: 3\n",
      "Index of 2: 2\n"
     ]
    }
   ],
   "source": [
    "## Create a tuple with duplicate elements\n",
    "tuple= (1,1,2,2,2,3,3,3,4,4,5,6,6)\n",
    "# Count the occurences of element\n",
    "count_2 = tuple.count(2)\n",
    "# Check the index of the element\n",
    "index_2 = tuple.index(2)\n",
    "\n",
    "print( f\"Tuple:\" , tuple)\n",
    "print(f\"Count of 2: {count_2}\")\n",
    "print(f\"Index of 2: {index_2}\")\n"
   ]
  },
  {
   "cell_type": "markdown",
   "metadata": {},
   "source": [
    "Assignment 7: Unpacking Tuples\n",
    "\n",
    "Create a tuple with 5 elements and unpack it into 5 variables. Print the variables."
   ]
  },
  {
   "cell_type": "code",
   "execution_count": 1,
   "metadata": {},
   "outputs": [
    {
     "name": "stdout",
     "output_type": "stream",
     "text": [
      "1\n",
      "2\n",
      "3\n",
      "4\n",
      "5\n"
     ]
    }
   ],
   "source": [
    "## Create a tuple\n",
    "my_tuple = (1, 2, 3, 4, 5)\n",
    "## Unpack the tuple into 5 variables\n",
    "a, b, c, d, e = my_tuple\n",
    "\n",
    "print(a)\n",
    "print(b)\n",
    "print(c)\n",
    "print(d)\n",
    "print(e)"
   ]
  },
  {
   "cell_type": "markdown",
   "metadata": {},
   "source": [
    "Assignment 8: Tuple Conversion\n",
    "\n",
    "Convert a list of the first 5 positive integers to a tuple. Print the tuple."
   ]
  },
  {
   "cell_type": "code",
   "execution_count": 2,
   "metadata": {},
   "outputs": [
    {
     "name": "stdout",
     "output_type": "stream",
     "text": [
      "(1, 2, 3, 4, 5)\n"
     ]
    }
   ],
   "source": [
    "## Create a list\n",
    "my_list = [1, 2, 3, 4, 5]\n",
    "# Convert list to tuple\n",
    "my_tuple = tuple(my_list)\n",
    "print(my_tuple)"
   ]
  },
  {
   "cell_type": "markdown",
   "metadata": {},
   "source": [
    "Assignment 9: Tuple of Tuples\n",
    "\n",
    "Create a tuple containing 3 tuples, each with 3 elements. Print the tuple of tuples."
   ]
  },
  {
   "cell_type": "code",
   "execution_count": 3,
   "metadata": {},
   "outputs": [
    {
     "name": "stdout",
     "output_type": "stream",
     "text": [
      "((1, 2, 3), (4, 5, 6), (7, 8, 9))\n"
     ]
    }
   ],
   "source": [
    "## Create a tuple having three tuples\n",
    "my_tuple= (\n",
    "    (1,2,3),\n",
    "    (4,5,6),\n",
    "    (7,8,9)\n",
    ")\n",
    "print(my_tuple)  # Output: ((1, 2, 3), (4,\n"
   ]
  },
  {
   "cell_type": "markdown",
   "metadata": {},
   "source": [
    "Assignment 10: Tuple and List\n",
    "\n",
    "Create a tuple with the first 5 positive integers. Convert it to a list, append the number 6, and convert it back to a tuple. Print the resulting tuple."
   ]
  },
  {
   "cell_type": "code",
   "execution_count": 5,
   "metadata": {},
   "outputs": [
    {
     "name": "stdout",
     "output_type": "stream",
     "text": [
      "(1, 2, 3, 4, 5, 6)\n"
     ]
    }
   ],
   "source": [
    "## Create a tuple \n",
    "my_tuple = (1, 2, 3, 4, 5)\n",
    "# Convert tuple into list\n",
    "my_list = list(my_tuple)\n",
    "# Append number 6 to the list\n",
    "my_list.append(6)\n",
    "# Convert it back into tuple\n",
    "new_tuple = tuple(my_list)\n",
    "\n",
    "print(new_tuple)\n",
    "\n"
   ]
  },
  {
   "cell_type": "markdown",
   "metadata": {},
   "source": [
    "Assignment 11: Tuple and String\n",
    "\n",
    "Create a tuple with the characters of a string. Join the tuple elements into a single string. Print the string."
   ]
  },
  {
   "cell_type": "code",
   "execution_count": 1,
   "metadata": {},
   "outputs": [
    {
     "name": "stdout",
     "output_type": "stream",
     "text": [
      "H e l l o ,   W o r l d !\n"
     ]
    }
   ],
   "source": [
    "## Create a string\n",
    "string= \"Hello, World!\"\n",
    "# Create a tuple with characters of string\n",
    "char_tuple= tuple(string)\n",
    "# Join tuple elements into a string\n",
    "joined_string=\" \".join(char_tuple) # Output: Hello, World!\n",
    "print(joined_string)\n"
   ]
  },
  {
   "cell_type": "markdown",
   "metadata": {},
   "source": [
    "Assignment 12: Tuple and Dictionary\n",
    "\n",
    "Create a dictionary with tuple keys and integer values. Print the dictionary."
   ]
  },
  {
   "cell_type": "code",
   "execution_count": 2,
   "metadata": {},
   "outputs": [
    {
     "name": "stdout",
     "output_type": "stream",
     "text": [
      "{(1, 2): 10, (2, 3): 20, (3, 4): 30}\n"
     ]
    }
   ],
   "source": [
    "## Create a dictionary with tuple keys and integer values\n",
    "dict ={\n",
    "    (1, 2): 10,\n",
    "    (2, 3): 20,\n",
    "    (3, 4): 30\n",
    "}\n",
    "print(dict)  \n",
    "\n",
    "\n"
   ]
  },
  {
   "cell_type": "markdown",
   "metadata": {},
   "source": [
    "Assignment 13: Nested Tuple Iteration\n",
    "\n",
    "Create a nested tuple and iterate over the elements, printing each element.\n"
   ]
  },
  {
   "cell_type": "code",
   "execution_count": 4,
   "metadata": {},
   "outputs": [
    {
     "name": "stdout",
     "output_type": "stream",
     "text": [
      "apple date fig 2 4 6 True False None "
     ]
    }
   ],
   "source": [
    "## Create a nested tuple\n",
    "nested_tuple=(\n",
    "    (\"apple\", \"date\", \"fig\"),\n",
    "    (2 , 4 , 6),\n",
    "    (True,False,None)\n",
    ")\n",
    "# Iterating over the nested tuple\n",
    "for sub_tuple in nested_tuple:\n",
    "    for item in sub_tuple:\n",
    "        print(item, end=\" \")\n"
   ]
  },
  {
   "cell_type": "markdown",
   "metadata": {},
   "source": [
    "Assignment 14: Tuple and Set\n",
    "\n",
    "Create a tuple with duplicate elements. Convert it to a set to remove duplicates and print the resulting set."
   ]
  },
  {
   "cell_type": "code",
   "execution_count": 5,
   "metadata": {},
   "outputs": [
    {
     "name": "stdout",
     "output_type": "stream",
     "text": [
      "{1, 2, 3, 4, 5, 6}\n"
     ]
    }
   ],
   "source": [
    "## Create a tuple with duplicate elements\n",
    "tuple= (1,1,2,2,2,3,3,3,4,4,5,6,6)\n",
    "# Convert tuple to set\n",
    "set = set(tuple)\n",
    "print(set)"
   ]
  },
  {
   "cell_type": "markdown",
   "metadata": {},
   "source": [
    "Assignment 15: Tuple Functions\n",
    "\n",
    "Write functions that take a tuple and return the minimum, maximum, and sum of the elements. Print the results for a sample tuple."
   ]
  },
  {
   "cell_type": "code",
   "execution_count": 6,
   "metadata": {},
   "outputs": [
    {
     "name": "stdout",
     "output_type": "stream",
     "text": [
      "Minimum 1\n",
      "Maximum 5\n",
      "Sum of all values 15\n"
     ]
    }
   ],
   "source": [
    "## Create a tuple\n",
    "my_tuple = (1, 2, 3, 4, 5)\n",
    "# Function to return min value from tuple\n",
    "def get_min_value(tup):\n",
    "    return min(tup)\n",
    "# Function to return max value from tuple\n",
    "def get_max_value(tup):\n",
    "    return max(tup)\n",
    "# Function to return sum of all values in tuple\n",
    "def get_sum_value(tup):\n",
    "    return sum(tup)\n",
    "\n",
    "print( f\"Minimum\", get_min_value(my_tuple))\n",
    "print( f\"Maximum\", get_max_value(my_tuple))\n",
    "print( f\"Sum of all values\", get_sum_value(my_tuple))\n",
    "    \n",
    "\n"
   ]
  }
 ],
 "metadata": {
  "kernelspec": {
   "display_name": "Python 3",
   "language": "python",
   "name": "python3"
  },
  "language_info": {
   "codemirror_mode": {
    "name": "ipython",
    "version": 3
   },
   "file_extension": ".py",
   "mimetype": "text/x-python",
   "name": "python",
   "nbconvert_exporter": "python",
   "pygments_lexer": "ipython3",
   "version": "3.12.0"
  }
 },
 "nbformat": 4,
 "nbformat_minor": 2
}
